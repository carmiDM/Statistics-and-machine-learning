{
 "cells": [
  {
   "cell_type": "markdown",
   "id": "f8d39ff1-490e-4110-9ff1-8880fdba895c",
   "metadata": {},
   "source": [
    "### Homework"
   ]
  },
  {
   "cell_type": "markdown",
   "id": "e5aac0b8-67cf-496d-8b82-d7a2910ef36b",
   "metadata": {},
   "source": [
    "Before you begin, remember to import the necessary libraries."
   ]
  },
  {
   "cell_type": "code",
   "execution_count": 11,
   "id": "33de4fa0-4c6b-412e-9d31-b60b777ec39a",
   "metadata": {},
   "outputs": [],
   "source": [
    "import numpy as np\n",
    "import pandas as pd\n",
    "import seaborn as sns\n",
    "from scipy import stats\n",
    "import matplotlib.pyplot as plt"
   ]
  },
  {
   "cell_type": "markdown",
   "id": "a6be9786-ed96-4ab6-bf58-711b6fcef982",
   "metadata": {},
   "source": [
    "#### Standard Exercises"
   ]
  },
  {
   "cell_type": "markdown",
   "id": "d599a7c3-5c90-4638-8fdd-79f33216defa",
   "metadata": {},
   "source": [
    "1. Import the `planets` dataset via the `seaborn` library and assign it to an object named `df`."
   ]
  },
  {
   "cell_type": "code",
   "execution_count": 12,
   "id": "b1ceca91-a673-41e4-8062-12b80bbe00ae",
   "metadata": {},
   "outputs": [
    {
     "data": {
      "text/html": [
       "<div>\n",
       "<style scoped>\n",
       "    .dataframe tbody tr th:only-of-type {\n",
       "        vertical-align: middle;\n",
       "    }\n",
       "\n",
       "    .dataframe tbody tr th {\n",
       "        vertical-align: top;\n",
       "    }\n",
       "\n",
       "    .dataframe thead th {\n",
       "        text-align: right;\n",
       "    }\n",
       "</style>\n",
       "<table border=\"1\" class=\"dataframe\">\n",
       "  <thead>\n",
       "    <tr style=\"text-align: right;\">\n",
       "      <th></th>\n",
       "      <th>method</th>\n",
       "      <th>number</th>\n",
       "      <th>orbital_period</th>\n",
       "      <th>mass</th>\n",
       "      <th>distance</th>\n",
       "      <th>year</th>\n",
       "    </tr>\n",
       "  </thead>\n",
       "  <tbody>\n",
       "    <tr>\n",
       "      <th>0</th>\n",
       "      <td>Radial Velocity</td>\n",
       "      <td>1</td>\n",
       "      <td>269.300</td>\n",
       "      <td>7.10</td>\n",
       "      <td>77.40</td>\n",
       "      <td>2006</td>\n",
       "    </tr>\n",
       "    <tr>\n",
       "      <th>1</th>\n",
       "      <td>Radial Velocity</td>\n",
       "      <td>1</td>\n",
       "      <td>874.774</td>\n",
       "      <td>2.21</td>\n",
       "      <td>56.95</td>\n",
       "      <td>2008</td>\n",
       "    </tr>\n",
       "    <tr>\n",
       "      <th>2</th>\n",
       "      <td>Radial Velocity</td>\n",
       "      <td>1</td>\n",
       "      <td>763.000</td>\n",
       "      <td>2.60</td>\n",
       "      <td>19.84</td>\n",
       "      <td>2011</td>\n",
       "    </tr>\n",
       "    <tr>\n",
       "      <th>3</th>\n",
       "      <td>Radial Velocity</td>\n",
       "      <td>1</td>\n",
       "      <td>326.030</td>\n",
       "      <td>19.40</td>\n",
       "      <td>110.62</td>\n",
       "      <td>2007</td>\n",
       "    </tr>\n",
       "    <tr>\n",
       "      <th>4</th>\n",
       "      <td>Radial Velocity</td>\n",
       "      <td>1</td>\n",
       "      <td>516.220</td>\n",
       "      <td>10.50</td>\n",
       "      <td>119.47</td>\n",
       "      <td>2009</td>\n",
       "    </tr>\n",
       "  </tbody>\n",
       "</table>\n",
       "</div>"
      ],
      "text/plain": [
       "            method  number  orbital_period   mass  distance  year\n",
       "0  Radial Velocity       1         269.300   7.10     77.40  2006\n",
       "1  Radial Velocity       1         874.774   2.21     56.95  2008\n",
       "2  Radial Velocity       1         763.000   2.60     19.84  2011\n",
       "3  Radial Velocity       1         326.030  19.40    110.62  2007\n",
       "4  Radial Velocity       1         516.220  10.50    119.47  2009"
      ]
     },
     "execution_count": 12,
     "metadata": {},
     "output_type": "execute_result"
    }
   ],
   "source": [
    "df = sns.load_dataset('planets')\n",
    "df.head()"
   ]
  },
  {
   "cell_type": "markdown",
   "id": "8164c5af-bc2e-46b9-b482-dee24d761eb2",
   "metadata": {},
   "source": [
    "2. Compute the **mode**, **mean** and **median** of the `distance` variable in the `df` dataframe. *Note: use the `np.nanmean()` and `np.nanmedian()` function to ignore NaN values*"
   ]
  },
  {
   "cell_type": "code",
   "execution_count": 20,
   "id": "e3a607f7-d949-405c-9843-65896fcc0ff3",
   "metadata": {},
   "outputs": [],
   "source": [
    "a = np.nanmean(df['distance'])\n",
    "b = np.nanmedian(df['distance'])\n",
    "c = stats.mode(df['distance'])"
   ]
  },
  {
   "cell_type": "code",
   "execution_count": 21,
   "id": "2db972f1-0ea7-4155-bd6b-d367a7483bcb",
   "metadata": {},
   "outputs": [
    {
     "name": "stdout",
     "output_type": "stream",
     "text": [
      "264.06928217821786  -  55.25  -  ModeResult(mode=array([nan]), count=array([227]))\n"
     ]
    }
   ],
   "source": [
    "print(a,' - ' , b,' - ', c)"
   ]
  },
  {
   "cell_type": "markdown",
   "id": "ac167d16-b00e-4ff1-8d4b-18f548e28f5f",
   "metadata": {},
   "source": [
    "3. Create a new DataFrame having the following specs: \n",
    "- its name is `df_stats` \n",
    "- it has shape `(1, 5)`\n",
    "- populate it with the following columns `['min', 'mode', 'mean', 'median', 'max']`\n",
    "- use the data from the `distance` column in the `df` dataset"
   ]
  },
  {
   "cell_type": "code",
   "execution_count": 14,
   "id": "f39e606e-e008-468c-a000-3005f4fa3ded",
   "metadata": {},
   "outputs": [
    {
     "data": {
      "text/plain": [
       "(0, 5)"
      ]
     },
     "execution_count": 14,
     "metadata": {},
     "output_type": "execute_result"
    }
   ],
   "source": [
    "df_stats = pd.DataFrame([], columns = ['min', 'mode', 'mean', 'median', 'max'])\n",
    "df_stats.shape"
   ]
  },
  {
   "cell_type": "code",
   "execution_count": 17,
   "id": "025e4fb3-ab43-4a51-a559-365ecf46d4d6",
   "metadata": {},
   "outputs": [],
   "source": [
    "df_stats['min'] = np.nanmin(df['distance'])\n",
    "df_stats['mode'] = stats.mode(df.distance)\n",
    "df_stats['mean'] = np.nanmean(df['distance'])\n",
    "df_stats['median'] = np.nanmedian(df['distance'])\n",
    "df_stats['max'] = np.max(df['distance'])"
   ]
  },
  {
   "cell_type": "code",
   "execution_count": 18,
   "id": "08ddc5bc-704d-4185-87d9-1648e6efd83f",
   "metadata": {},
   "outputs": [
    {
     "data": {
      "text/html": [
       "<div>\n",
       "<style scoped>\n",
       "    .dataframe tbody tr th:only-of-type {\n",
       "        vertical-align: middle;\n",
       "    }\n",
       "\n",
       "    .dataframe tbody tr th {\n",
       "        vertical-align: top;\n",
       "    }\n",
       "\n",
       "    .dataframe thead th {\n",
       "        text-align: right;\n",
       "    }\n",
       "</style>\n",
       "<table border=\"1\" class=\"dataframe\">\n",
       "  <thead>\n",
       "    <tr style=\"text-align: right;\">\n",
       "      <th></th>\n",
       "      <th>min</th>\n",
       "      <th>mode</th>\n",
       "      <th>mean</th>\n",
       "      <th>median</th>\n",
       "      <th>max</th>\n",
       "    </tr>\n",
       "  </thead>\n",
       "  <tbody>\n",
       "    <tr>\n",
       "      <th>0</th>\n",
       "      <td>1.35</td>\n",
       "      <td>[nan]</td>\n",
       "      <td>264.069282</td>\n",
       "      <td>55.25</td>\n",
       "      <td>8500.0</td>\n",
       "    </tr>\n",
       "    <tr>\n",
       "      <th>1</th>\n",
       "      <td>1.35</td>\n",
       "      <td>[227]</td>\n",
       "      <td>264.069282</td>\n",
       "      <td>55.25</td>\n",
       "      <td>8500.0</td>\n",
       "    </tr>\n",
       "  </tbody>\n",
       "</table>\n",
       "</div>"
      ],
      "text/plain": [
       "    min   mode        mean  median     max\n",
       "0  1.35  [nan]  264.069282   55.25  8500.0\n",
       "1  1.35  [227]  264.069282   55.25  8500.0"
      ]
     },
     "execution_count": 18,
     "metadata": {},
     "output_type": "execute_result"
    }
   ],
   "source": [
    "df_stats"
   ]
  },
  {
   "cell_type": "markdown",
   "id": "2217cf51-4b90-43e1-adb9-8307086405bf",
   "metadata": {},
   "source": [
    "4. Given the DataFrame you just created, try to imagine (without the aid of a chart) how the data may be distributed. You can probably tell quite a bit, but you still need some information about its dispersion or variability. Add three more columns to the `df_stats` DataFrame `['range', 'iqr', 'stdev']` that show the variable's **range**, **interquartile range** and **standart deviation**. *Note: make sure you select the appropriate `nan_policy` and `ddof` for the `stats.iqr()` and `np.std()` functions, respectively*"
   ]
  },
  {
   "cell_type": "code",
   "execution_count": 19,
   "id": "f5b62a6f-089b-4fb0-b805-3ee1b2bfe803",
   "metadata": {},
   "outputs": [
    {
     "data": {
      "text/html": [
       "<div>\n",
       "<style scoped>\n",
       "    .dataframe tbody tr th:only-of-type {\n",
       "        vertical-align: middle;\n",
       "    }\n",
       "\n",
       "    .dataframe tbody tr th {\n",
       "        vertical-align: top;\n",
       "    }\n",
       "\n",
       "    .dataframe thead th {\n",
       "        text-align: right;\n",
       "    }\n",
       "</style>\n",
       "<table border=\"1\" class=\"dataframe\">\n",
       "  <thead>\n",
       "    <tr style=\"text-align: right;\">\n",
       "      <th></th>\n",
       "      <th>min</th>\n",
       "      <th>mode</th>\n",
       "      <th>mean</th>\n",
       "      <th>median</th>\n",
       "      <th>max</th>\n",
       "      <th>stdev</th>\n",
       "      <th>iqr</th>\n",
       "      <th>range</th>\n",
       "    </tr>\n",
       "  </thead>\n",
       "  <tbody>\n",
       "    <tr>\n",
       "      <th>0</th>\n",
       "      <td>1.35</td>\n",
       "      <td>[nan]</td>\n",
       "      <td>264.069282</td>\n",
       "      <td>55.25</td>\n",
       "      <td>8500.0</td>\n",
       "      <td>732.662691</td>\n",
       "      <td>145.94</td>\n",
       "      <td>8498.65</td>\n",
       "    </tr>\n",
       "    <tr>\n",
       "      <th>1</th>\n",
       "      <td>1.35</td>\n",
       "      <td>[227]</td>\n",
       "      <td>264.069282</td>\n",
       "      <td>55.25</td>\n",
       "      <td>8500.0</td>\n",
       "      <td>732.662691</td>\n",
       "      <td>145.94</td>\n",
       "      <td>8498.65</td>\n",
       "    </tr>\n",
       "  </tbody>\n",
       "</table>\n",
       "</div>"
      ],
      "text/plain": [
       "    min   mode        mean  median     max       stdev     iqr    range\n",
       "0  1.35  [nan]  264.069282   55.25  8500.0  732.662691  145.94  8498.65\n",
       "1  1.35  [227]  264.069282   55.25  8500.0  732.662691  145.94  8498.65"
      ]
     },
     "execution_count": 19,
     "metadata": {},
     "output_type": "execute_result"
    }
   ],
   "source": [
    "df_stats['stdev'] = np.std(df['distance'])\n",
    "df_stats['iqr'] = stats.iqr(df['distance'], nan_policy = 'omit')\n",
    "df_stats['range'] = max(df['distance'])- min(df['distance'])\n",
    "df_stats"
   ]
  },
  {
   "cell_type": "markdown",
   "id": "4de70aa4-84cf-4cc5-aec0-5062586e7841",
   "metadata": {},
   "source": [
    "5. The `sns.stripplot()` function allows you to perform a first visual check on the distribution of continuous variables. Check out the [relative documentation](https://seaborn.pydata.org/generated/seaborn.stripplot.html) and draw a **stripplot** just for the `distance` variable. Did it match your expectations from the previous question? "
   ]
  },
  {
   "cell_type": "code",
   "execution_count": 70,
   "id": "1971b86a-b296-459c-b018-86ac9ff57eda",
   "metadata": {},
   "outputs": [
    {
     "data": {
      "text/plain": [
       "<AxesSubplot:xlabel='distance'>"
      ]
     },
     "execution_count": 70,
     "metadata": {},
     "output_type": "execute_result"
    },
    {
     "data": {
      "image/png": "[encoded data removed]",
      "text/plain": [
       "<Figure size 1080x576 with 1 Axes>"
      ]
     },
     "metadata": {},
     "output_type": "display_data"
    }
   ],
   "source": [
    "sns.set_theme(style=\"whitegrid\")\n",
    "plt.figure(figsize=(15,8))\n",
    "sns.stripplot(x = 'distance', data = df, jitter= True)"
   ]
  },
  {
   "cell_type": "markdown",
   "id": "0fce34ee-2b9a-4c2b-b371-7d7efbc11b92",
   "metadata": {},
   "source": [
    "6. Write a function `my_median()` that, given a dataframe `df` and a column name `col` as inputs, returns the corresponding **median** value. If the input data contains NaN values, the function should be able to handle them by ignoring them. *Hint: check out the `.dropna()` method*"
   ]
  },
  {
   "cell_type": "code",
   "execution_count": null,
   "id": "c7333b70-35be-4301-80da-99d3bfd93fac",
   "metadata": {},
   "outputs": [],
   "source": [
    "def my_median(df, col):\n",
    "    df_temp = df.copy()\n",
    "    df_temp = df_temp[col.].dropna().sort_values()\n",
    "    n = len(df_temp)\n",
    "    if n %2 == 0\n",
    "        \n",
    "        med = df_temp.iloc[loc]"
   ]
  },
  {
   "cell_type": "markdown",
   "id": "d6d794ca-886c-41dc-ae08-fe75bac8eef2",
   "metadata": {},
   "source": [
    "#### Advanced Exercises"
   ]
  },
  {
   "cell_type": "markdown",
   "id": "ea893cad-cb51-40f2-8c9e-aa5a7eac59f4",
   "metadata": {},
   "source": [
    "1. Write a function `my_stdev()` that, given a dataframe `df` and a column name `col` as inputs, returns the corresponding **standard deviation** value. If the input data contains NaN values, the function should be able to handle them by ignoring them."
   ]
  },
  {
   "cell_type": "code",
   "execution_count": null,
   "id": "f7c0be70-3dd9-48a5-b979-b4a529222168",
   "metadata": {},
   "outputs": [],
   "source": []
  },
  {
   "cell_type": "markdown",
   "id": "499a8e30-5e5e-482a-88d6-a4a78a932a33",
   "metadata": {},
   "source": [
    "2. Write a function `my_stat()` that, given a dataframe `df`, a column name `col` and a statistic parameter `stat` as inputs, returns the corresponding desired statistic as chosen by the user from these four possible options: `['mean', 'median', 'iqr', 'stdev']`. If the input data contains NaN values, the function should be able to handle them by ignoring them."
   ]
  },
  {
   "cell_type": "code",
   "execution_count": null,
   "id": "57af9ae2-06bb-499a-8173-385ad634ff91",
   "metadata": {},
   "outputs": [],
   "source": []
  },
  {
   "cell_type": "markdown",
   "id": "8300841a-6050-4e28-a671-c912181b0665",
   "metadata": {},
   "source": [
    "3. Load up the `iris` dataset via `seaborn` and assign it to a DataFrame object with the same name. Then, using `iris.describe()`, check out all the different statistics available for the four countinuos variables in the dataset. Once you have familiarised yourself with the [differences between sepals and petals](https://biologyreader.com/difference-between-sepals-and-petals.html): \n",
    "    1. assign the output table of the `iris.describe()` statement to a new DF object named `iris_stats` \n",
    "    2. add a new **row** to the DataFrame with index `iqr` and compute the IQR for eacn column of the DF\n",
    "    3. study the table and try to visualise the shape of the data according to its measures of central tendency and statistical dispersion; what can you say about the shape of this data? *(hint: feel free to select just a relevant subset of statistics from the `iris_stats` DataFrame)*\n",
    "    4. visualising sets of data in your head is no joke (although it is a useful exercise!); now visualize all four numeric variables from the `iris` dataset in the same plot using the `sns.stripplot()` function; did it match your expectations from the previous question? "
   ]
  },
  {
   "cell_type": "code",
   "execution_count": null,
   "id": "5f564ba2-91e3-471d-9637-f40b47097069",
   "metadata": {},
   "outputs": [],
   "source": []
  },
  {
   "cell_type": "code",
   "execution_count": null,
   "id": "a7047836-bc6e-439d-8a61-eef237a2ec82",
   "metadata": {},
   "outputs": [],
   "source": []
  },
  {
   "cell_type": "code",
   "execution_count": null,
   "id": "f5b6a251-1eb1-45f7-90c5-91573d9dfee3",
   "metadata": {},
   "outputs": [],
   "source": []
  },
  {
   "cell_type": "code",
   "execution_count": null,
   "id": "ac9fe9fc-c30b-4a6a-8cb8-b65f9f72fe80",
   "metadata": {},
   "outputs": [],
   "source": []
  }
 ],
 "metadata": {
  "kernelspec": {
   "display_name": "Python 3 (ipykernel)",
   "language": "python",
   "name": "python3"
  },
  "language_info": {
   "codemirror_mode": {
    "name": "ipython",
    "version": 3
   },
   "file_extension": ".py",
   "mimetype": "text/x-python",
   "name": "python",
   "nbconvert_exporter": "python",
   "pygments_lexer": "ipython3",
   "version": "3.9.12"
  }
 },
 "nbformat": 4,
 "nbformat_minor": 5
}
