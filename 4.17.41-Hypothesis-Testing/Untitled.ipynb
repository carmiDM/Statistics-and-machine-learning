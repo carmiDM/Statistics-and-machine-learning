{
 "cells": [
  {
   "cell_type": "code",
   "execution_count": null,
   "id": "b86cf7d9-aaef-421e-b3fc-c1174a634ec7",
   "metadata": {},
   "outputs": [],
   "source": [
    "mu_test = np.mean(food[food.food_category=='poultry']['consumption'])\n",
    "mu_control = np.mean(food[food.food_category=='fish']['consumption'])\n",
    "\n",
    "food_mu_diff = mu_test - mu_control\n",
    "print('Observed CTR difference:', round(food_mu_diff, 4))\n",
    "\n",
    "\n",
    "n = 5000\n",
    "mu_diff_samples = []\n",
    "for i in range(n): \n",
    "    food_sample1 = food.sample(frac=0.5, replace=False)\n",
    "    ix2 = set(food.index) - set(food_sample1.index)\n",
    "    food_sample2 = food.loc[list(ix2)]\n",
    "    mu_diff_temp = np.mean(food_sample1['consumption']) - np.mean(food_sample2['consumption'])\n",
    "    mu_diff_samples.append(mu_diff_temp)\n",
    "\n",
    "    \n",
    "sns.histplot(mu_diff_samples)\n",
    "plt.axvline(food_mu_diff, 0, 1, color='r', linestyle='--')\n",
    "plt.show()\n",
    "print('Avgerage Simulated Test Statistic:', f'{np.mean(mu_diff_samples):.4f}')\n",
    "print('Initially Observed Test Statistic:', f'{food_mu_diff:.4f}')\n",
    "\n",
    "\n",
    "print('Results more extreme than observed:', sum([el >= food_mu_diff for el in mu_diff_samples]))\n",
    "print('Total results:', len(mu_diff_samples))\n",
    "p_value = sum([el > food_mu_diff for el in mu_diff_samples])/n\n",
    "print('p-value:', sum([el >= food_mu_diff for el in mu_diff_samples]), '/', len(mu_diff_samples), '=', p_value)\n",
    "\n",
    "\n",
    "alpha = 0.1\n",
    "\n",
    "if p_value <= alpha: \n",
    "    print('H0 rejected: the observed result is statistically significant | p-value <= alpha')\n",
    "else: \n",
    "    print('H0 accepted | the observed result is not statistically significant | p-value > alpha')"
   ]
  },
  {
   "cell_type": "code",
   "execution_count": null,
   "id": "d8d2b793-9223-4eb4-83b9-673407a756c5",
   "metadata": {},
   "outputs": [],
   "source": [
    "y = ts_fill['happiness_score']\n",
    "X = ts_fill[['social_support', 'freedom', 'generosity', 'life_exp']]\n",
    "from sklearn.model_selection import train_test_split\n",
    "from sklearn.linear_model import LinearRegression\n",
    "X_train, X_test, y_train, y_test = train_test_split(X, y, test_size=0.33, random_state=42)\n",
    "model = LinearRegression().fit(X_train,y_train)\n",
    "\n",
    "Y_pred = model.predict(X_test)\n",
    "lin_reg = LinearRegression()\n",
    "lin_reg.fit(X_train,y_train) \n",
    "R_square_sk = lin_reg.score(X_test,y_test)\n",
    "R_square_sk2 = lin_reg.score(X_train,y_train)\n",
    "\n",
    "print('R square test is :',R_square_sk)\n",
    "print('R square train is :',R_square_sk2)"
   ]
  }
 ],
 "metadata": {
  "kernelspec": {
   "display_name": "Python 3 (ipykernel)",
   "language": "python",
   "name": "python3"
  },
  "language_info": {
   "codemirror_mode": {
    "name": "ipython",
    "version": 3
   },
   "file_extension": ".py",
   "mimetype": "text/x-python",
   "name": "python",
   "nbconvert_exporter": "python",
   "pygments_lexer": "ipython3",
   "version": "3.9.12"
  }
 },
 "nbformat": 4,
 "nbformat_minor": 5
}
