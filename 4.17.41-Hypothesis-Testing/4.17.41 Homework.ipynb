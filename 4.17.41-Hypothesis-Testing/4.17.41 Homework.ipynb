{
 "cells": [
  {
   "cell_type": "markdown",
   "id": "54aeee21-dbf1-4c38-89de-91e799c40d21",
   "metadata": {},
   "source": [
    "### Homework"
   ]
  },
  {
   "cell_type": "markdown",
   "id": "506d26a5-0f86-4b97-938e-43575a1d90c9",
   "metadata": {},
   "source": [
    "Before you begin, remember to import the necessary libraries."
   ]
  },
  {
   "cell_type": "code",
   "execution_count": 53,
   "id": "aa3f79f9-da8c-4b95-9345-2cca1f3e007f",
   "metadata": {},
   "outputs": [],
   "source": [
    "import numpy as np\n",
    "import pandas as pd\n",
    "from scipy import stats\n",
    "\n",
    "import matplotlib.pyplot as plt\n",
    "import seaborn as sns\n",
    "sns.set_theme()"
   ]
  },
  {
   "cell_type": "markdown",
   "id": "4ba225d4-c8c9-4a0d-8941-1a9ff4568215",
   "metadata": {},
   "source": [
    "Load the `homework-ab-test-data.csv` dataset from the `data` folder to a DataFrame object named `df`. The dataset contains the results of an AB test conducted on the title of an article that runs on the homepage of your website. Specifically, you think that rather than leaving the current title (\"title_control\"), changing it to an improved version (\"title_test\") would increase the interest and engagement of your visitors. "
   ]
  },
  {
   "cell_type": "code",
   "execution_count": 54,
   "id": "ff40d0cf-8f77-4130-bf90-0d560b83bfd6",
   "metadata": {},
   "outputs": [
    {
     "data": {
      "text/html": [
       "<div>\n",
       "<style scoped>\n",
       "    .dataframe tbody tr th:only-of-type {\n",
       "        vertical-align: middle;\n",
       "    }\n",
       "\n",
       "    .dataframe tbody tr th {\n",
       "        vertical-align: top;\n",
       "    }\n",
       "\n",
       "    .dataframe thead th {\n",
       "        text-align: right;\n",
       "    }\n",
       "</style>\n",
       "<table border=\"1\" class=\"dataframe\">\n",
       "  <thead>\n",
       "    <tr style=\"text-align: right;\">\n",
       "      <th></th>\n",
       "      <th>id</th>\n",
       "      <th>visit_date</th>\n",
       "      <th>group</th>\n",
       "      <th>time_on_homepage</th>\n",
       "      <th>clicked_article</th>\n",
       "    </tr>\n",
       "  </thead>\n",
       "  <tbody>\n",
       "    <tr>\n",
       "      <th>0</th>\n",
       "      <td>uid1</td>\n",
       "      <td>2018-04-01</td>\n",
       "      <td>title_test</td>\n",
       "      <td>49.011609</td>\n",
       "      <td>0</td>\n",
       "    </tr>\n",
       "    <tr>\n",
       "      <th>1</th>\n",
       "      <td>uid2</td>\n",
       "      <td>2018-04-01</td>\n",
       "      <td>title_test</td>\n",
       "      <td>48.864515</td>\n",
       "      <td>0</td>\n",
       "    </tr>\n",
       "    <tr>\n",
       "      <th>2</th>\n",
       "      <td>uid3</td>\n",
       "      <td>2018-04-01</td>\n",
       "      <td>title_test</td>\n",
       "      <td>49.074667</td>\n",
       "      <td>0</td>\n",
       "    </tr>\n",
       "    <tr>\n",
       "      <th>3</th>\n",
       "      <td>uid4</td>\n",
       "      <td>2018-04-01</td>\n",
       "      <td>title_test</td>\n",
       "      <td>49.260109</td>\n",
       "      <td>1</td>\n",
       "    </tr>\n",
       "    <tr>\n",
       "      <th>4</th>\n",
       "      <td>uid5</td>\n",
       "      <td>2018-04-01</td>\n",
       "      <td>title_test</td>\n",
       "      <td>50.371898</td>\n",
       "      <td>1</td>\n",
       "    </tr>\n",
       "  </tbody>\n",
       "</table>\n",
       "</div>"
      ],
      "text/plain": [
       "     id  visit_date       group  time_on_homepage  clicked_article\n",
       "0  uid1  2018-04-01  title_test         49.011609                0\n",
       "1  uid2  2018-04-01  title_test         48.864515                0\n",
       "2  uid3  2018-04-01  title_test         49.074667                0\n",
       "3  uid4  2018-04-01  title_test         49.260109                1\n",
       "4  uid5  2018-04-01  title_test         50.371898                1"
      ]
     },
     "execution_count": 54,
     "metadata": {},
     "output_type": "execute_result"
    }
   ],
   "source": [
    "df = pd.read_csv('./data/homework-ab-test-data.csv')\n",
    "df.head()"
   ]
  },
  {
   "cell_type": "code",
   "execution_count": 55,
   "id": "be14da49-086f-45d5-bd08-6e93d13eb326",
   "metadata": {},
   "outputs": [
    {
     "name": "stdout",
     "output_type": "stream",
     "text": [
      "<class 'pandas.core.frame.DataFrame'>\n",
      "RangeIndex: 30000 entries, 0 to 29999\n",
      "Data columns (total 5 columns):\n",
      " #   Column            Non-Null Count  Dtype  \n",
      "---  ------            --------------  -----  \n",
      " 0   id                30000 non-null  object \n",
      " 1   visit_date        30000 non-null  object \n",
      " 2   group             30000 non-null  object \n",
      " 3   time_on_homepage  30000 non-null  float64\n",
      " 4   clicked_article   30000 non-null  int64  \n",
      "dtypes: float64(1), int64(1), object(3)\n",
      "memory usage: 1.1+ MB\n"
     ]
    }
   ],
   "source": [
    "df.info()"
   ]
  },
  {
   "cell_type": "markdown",
   "id": "27b547cd-6c30-4812-9cab-5145ae5fc546",
   "metadata": {},
   "source": [
    "1. After you've analysed the data and produced some appropriate preliminary descriptive statistic (count, sum, mean, ...) of the `time_on_homepage` metric for each group in the experiment, test the hypothesis (using a permutation test) that the \"title_test\" page resulted in a significantly higher average `time_on_homepage`. Make sure you print the test statistic, an histogram of the sampled distribution, the p-value and choose an appropriate alpha level. Then state your conclusions."
   ]
  },
  {
   "cell_type": "code",
   "execution_count": 56,
   "id": "076c6956-e225-4734-9ea0-d8256418997b",
   "metadata": {},
   "outputs": [
    {
     "data": {
      "text/html": [
       "<div>\n",
       "<style scoped>\n",
       "    .dataframe tbody tr th:only-of-type {\n",
       "        vertical-align: middle;\n",
       "    }\n",
       "\n",
       "    .dataframe tbody tr th {\n",
       "        vertical-align: top;\n",
       "    }\n",
       "\n",
       "    .dataframe thead th {\n",
       "        text-align: right;\n",
       "    }\n",
       "</style>\n",
       "<table border=\"1\" class=\"dataframe\">\n",
       "  <thead>\n",
       "    <tr style=\"text-align: right;\">\n",
       "      <th></th>\n",
       "      <th>count</th>\n",
       "      <th>mean</th>\n",
       "      <th>std</th>\n",
       "      <th>min</th>\n",
       "      <th>25%</th>\n",
       "      <th>50%</th>\n",
       "      <th>75%</th>\n",
       "      <th>max</th>\n",
       "    </tr>\n",
       "    <tr>\n",
       "      <th>group</th>\n",
       "      <th></th>\n",
       "      <th></th>\n",
       "      <th></th>\n",
       "      <th></th>\n",
       "      <th></th>\n",
       "      <th></th>\n",
       "      <th></th>\n",
       "      <th></th>\n",
       "    </tr>\n",
       "  </thead>\n",
       "  <tbody>\n",
       "    <tr>\n",
       "      <th>title_control</th>\n",
       "      <td>15000.0</td>\n",
       "      <td>49.994889</td>\n",
       "      <td>1.000167</td>\n",
       "      <td>46.095672</td>\n",
       "      <td>49.328043</td>\n",
       "      <td>49.996765</td>\n",
       "      <td>50.666190</td>\n",
       "      <td>54.023849</td>\n",
       "    </tr>\n",
       "    <tr>\n",
       "      <th>title_test</th>\n",
       "      <td>15000.0</td>\n",
       "      <td>49.999093</td>\n",
       "      <td>1.006684</td>\n",
       "      <td>46.245660</td>\n",
       "      <td>49.322190</td>\n",
       "      <td>50.003084</td>\n",
       "      <td>50.672819</td>\n",
       "      <td>53.937622</td>\n",
       "    </tr>\n",
       "  </tbody>\n",
       "</table>\n",
       "</div>"
      ],
      "text/plain": [
       "                 count       mean       std        min        25%        50%  \\\n",
       "group                                                                          \n",
       "title_control  15000.0  49.994889  1.000167  46.095672  49.328043  49.996765   \n",
       "title_test     15000.0  49.999093  1.006684  46.245660  49.322190  50.003084   \n",
       "\n",
       "                     75%        max  \n",
       "group                                \n",
       "title_control  50.666190  54.023849  \n",
       "title_test     50.672819  53.937622  "
      ]
     },
     "execution_count": 56,
     "metadata": {},
     "output_type": "execute_result"
    }
   ],
   "source": [
    "df.groupby(['group'])['time_on_homepage'].describe()"
   ]
  },
  {
   "cell_type": "code",
   "execution_count": 57,
   "id": "1aa6520f-4e0f-4e17-8c04-79e194f470f3",
   "metadata": {},
   "outputs": [
    {
     "data": {
      "text/html": [
       "<div>\n",
       "<style scoped>\n",
       "    .dataframe tbody tr th:only-of-type {\n",
       "        vertical-align: middle;\n",
       "    }\n",
       "\n",
       "    .dataframe tbody tr th {\n",
       "        vertical-align: top;\n",
       "    }\n",
       "\n",
       "    .dataframe thead th {\n",
       "        text-align: right;\n",
       "    }\n",
       "</style>\n",
       "<table border=\"1\" class=\"dataframe\">\n",
       "  <thead>\n",
       "    <tr style=\"text-align: right;\">\n",
       "      <th></th>\n",
       "      <th>group</th>\n",
       "      <th>title_control</th>\n",
       "      <th>title_test</th>\n",
       "    </tr>\n",
       "  </thead>\n",
       "  <tbody>\n",
       "    <tr>\n",
       "      <th rowspan=\"8\" valign=\"top\">time_on_homepage</th>\n",
       "      <th>count</th>\n",
       "      <td>15000.000000</td>\n",
       "      <td>15000.000000</td>\n",
       "    </tr>\n",
       "    <tr>\n",
       "      <th>mean</th>\n",
       "      <td>49.994889</td>\n",
       "      <td>49.999093</td>\n",
       "    </tr>\n",
       "    <tr>\n",
       "      <th>std</th>\n",
       "      <td>1.000167</td>\n",
       "      <td>1.006684</td>\n",
       "    </tr>\n",
       "    <tr>\n",
       "      <th>min</th>\n",
       "      <td>46.095672</td>\n",
       "      <td>46.245660</td>\n",
       "    </tr>\n",
       "    <tr>\n",
       "      <th>25%</th>\n",
       "      <td>49.328043</td>\n",
       "      <td>49.322190</td>\n",
       "    </tr>\n",
       "    <tr>\n",
       "      <th>50%</th>\n",
       "      <td>49.996765</td>\n",
       "      <td>50.003084</td>\n",
       "    </tr>\n",
       "    <tr>\n",
       "      <th>75%</th>\n",
       "      <td>50.666190</td>\n",
       "      <td>50.672819</td>\n",
       "    </tr>\n",
       "    <tr>\n",
       "      <th>max</th>\n",
       "      <td>54.023849</td>\n",
       "      <td>53.937622</td>\n",
       "    </tr>\n",
       "    <tr>\n",
       "      <th rowspan=\"8\" valign=\"top\">clicked_article</th>\n",
       "      <th>count</th>\n",
       "      <td>15000.000000</td>\n",
       "      <td>15000.000000</td>\n",
       "    </tr>\n",
       "    <tr>\n",
       "      <th>mean</th>\n",
       "      <td>0.069067</td>\n",
       "      <td>0.166267</td>\n",
       "    </tr>\n",
       "    <tr>\n",
       "      <th>std</th>\n",
       "      <td>0.253576</td>\n",
       "      <td>0.372332</td>\n",
       "    </tr>\n",
       "    <tr>\n",
       "      <th>min</th>\n",
       "      <td>0.000000</td>\n",
       "      <td>0.000000</td>\n",
       "    </tr>\n",
       "    <tr>\n",
       "      <th>25%</th>\n",
       "      <td>0.000000</td>\n",
       "      <td>0.000000</td>\n",
       "    </tr>\n",
       "    <tr>\n",
       "      <th>50%</th>\n",
       "      <td>0.000000</td>\n",
       "      <td>0.000000</td>\n",
       "    </tr>\n",
       "    <tr>\n",
       "      <th>75%</th>\n",
       "      <td>0.000000</td>\n",
       "      <td>0.000000</td>\n",
       "    </tr>\n",
       "    <tr>\n",
       "      <th>max</th>\n",
       "      <td>1.000000</td>\n",
       "      <td>1.000000</td>\n",
       "    </tr>\n",
       "  </tbody>\n",
       "</table>\n",
       "</div>"
      ],
      "text/plain": [
       "group                   title_control    title_test\n",
       "time_on_homepage count   15000.000000  15000.000000\n",
       "                 mean       49.994889     49.999093\n",
       "                 std         1.000167      1.006684\n",
       "                 min        46.095672     46.245660\n",
       "                 25%        49.328043     49.322190\n",
       "                 50%        49.996765     50.003084\n",
       "                 75%        50.666190     50.672819\n",
       "                 max        54.023849     53.937622\n",
       "clicked_article  count   15000.000000  15000.000000\n",
       "                 mean        0.069067      0.166267\n",
       "                 std         0.253576      0.372332\n",
       "                 min         0.000000      0.000000\n",
       "                 25%         0.000000      0.000000\n",
       "                 50%         0.000000      0.000000\n",
       "                 75%         0.000000      0.000000\n",
       "                 max         1.000000      1.000000"
      ]
     },
     "execution_count": 57,
     "metadata": {},
     "output_type": "execute_result"
    }
   ],
   "source": [
    "df.groupby(['group']).describe().T"
   ]
  },
  {
   "cell_type": "markdown",
   "id": "cd26c9d1-53f3-487e-941a-b09f87c6f715",
   "metadata": {},
   "source": [
    "#mu_treatment = np.mean(treatment)\n",
    "#mu_control = np.mean(control)\n",
    "#mu_diff = mu_treatment - mu_control"
   ]
  },
  {
   "cell_type": "code",
   "execution_count": 58,
   "id": "74797def-233b-481a-aaf5-925540293c0a",
   "metadata": {},
   "outputs": [
    {
     "name": "stdout",
     "output_type": "stream",
     "text": [
      "0.0042\n"
     ]
    }
   ],
   "source": [
    "title_test = np.mean(df[df.group== 'title_test']['time_on_homepage'])\n",
    "title_control = np.mean(df[df.group== 'title_control']['time_on_homepage'])\n",
    "title_diff = title_test - title_control\n",
    "print(round(title_diff, 5))"
   ]
  },
  {
   "cell_type": "code",
   "execution_count": 59,
   "id": "b45ca67f-aff0-4b14-a434-6c2474132bd5",
   "metadata": {},
   "outputs": [],
   "source": [
    "n = 2000\n",
    "title_diff_sample = []\n",
    "for i in range(n):\n",
    "    df_sample1 = df.sample(frac = 0.5, replace=False)\n",
    "    ix2 = set(df.index) - set(df_sample1.index)\n",
    "    df_sample2 = df.iloc[list(ix2)]\n",
    "    title_diff_temp = np.mean(df_sample1['time_on_homepage']) - np.mean(df_sample2['time_on_homepage'])\n",
    "    title_diff_sample.append(title_diff_temp)"
   ]
  },
  {
   "cell_type": "code",
   "execution_count": 60,
   "id": "b123402a-7aaf-4fc8-93d5-9c006c09b1a6",
   "metadata": {},
   "outputs": [
    {
     "data": {
      "image/png": "[encoded data removed]",
      "text/plain": [
       "<Figure size 432x288 with 1 Axes>"
      ]
     },
     "metadata": {},
     "output_type": "display_data"
    }
   ],
   "source": [
    "sns.histplot(title_diff_sample)\n",
    "plt.axvline(title_diff, 0, 1, color='r', linestyle='--')\n",
    "plt.show()"
   ]
  },
  {
   "cell_type": "code",
   "execution_count": 70,
   "id": "927ba818-f1e2-4c80-a657-53377f59e966",
   "metadata": {},
   "outputs": [
    {
     "name": "stdout",
     "output_type": "stream",
     "text": [
      "Values more extreme than observed: 709\n",
      "p-value: 0.3545\n"
     ]
    }
   ],
   "source": [
    "print('Values more extreme than observed:', sum([el >= title_diff for el in title_diff_sample]))\n",
    "p_value = sum([el > title_diff for el in title_diff_sample])/n\n",
    "print('p-value:', p_value)"
   ]
  },
  {
   "cell_type": "code",
   "execution_count": 71,
   "id": "58dfbefe-d924-411c-ade4-f0ed1d98c4fd",
   "metadata": {},
   "outputs": [
    {
     "name": "stdout",
     "output_type": "stream",
     "text": [
      "p-value > alpha | the observed result is not statistically significant | H0 accepted\n"
     ]
    }
   ],
   "source": [
    "alpha = 0.05\n",
    "if p_value <= alpha: \n",
    "    print('p-value <= alpha | the observed result is statistically significant | H0 rejected')\n",
    "else: \n",
    "    print('p-value > alpha | the observed result is not statistically significant | H0 accepted')"
   ]
  },
  {
   "cell_type": "markdown",
   "id": "32e02644-ec52-4f71-ad6e-51798f7b905f",
   "metadata": {},
   "source": [
    "2. Run a hypothesis test (choose the one you prefer) to figure out whether the \"article_test\" receaved a higher number of `clicked_article`than the \"article_control\" group. "
   ]
  },
  {
   "cell_type": "code",
   "execution_count": null,
   "id": "970ba88b-5f74-4e07-99e3-db59ec6be813",
   "metadata": {},
   "outputs": [],
   "source": []
  },
  {
   "cell_type": "markdown",
   "id": "1328d3b1-74c2-431e-8b78-3195b091819b",
   "metadata": {},
   "source": [
    "3. Come up with your own AB test and, after designing the experiment: \n",
    "    1. use an appropriate probability distribution to create a synthetic dataset that supports your experiment (create your own fake data); \n",
    "    2. using a permutation test, run an hypothesis test and state your conclusions (you will already know the result from step 1 of course). "
   ]
  },
  {
   "cell_type": "code",
   "execution_count": null,
   "id": "faf08fe9-7339-45dc-9d45-e155ab9bb5db",
   "metadata": {},
   "outputs": [],
   "source": []
  }
 ],
 "metadata": {
  "kernelspec": {
   "display_name": "Python 3 (ipykernel)",
   "language": "python",
   "name": "python3"
  },
  "language_info": {
   "codemirror_mode": {
    "name": "ipython",
    "version": 3
   },
   "file_extension": ".py",
   "mimetype": "text/x-python",
   "name": "python",
   "nbconvert_exporter": "python",
   "pygments_lexer": "ipython3",
   "version": "3.9.12"
  }
 },
 "nbformat": 4,
 "nbformat_minor": 5
}
