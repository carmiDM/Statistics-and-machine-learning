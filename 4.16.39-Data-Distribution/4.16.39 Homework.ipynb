{
 "cells": [
  {
   "cell_type": "markdown",
   "id": "f8d39ff1-490e-4110-9ff1-8880fdba895c",
   "metadata": {},
   "source": [
    "### Homework"
   ]
  },
  {
   "cell_type": "markdown",
   "id": "e5aac0b8-67cf-496d-8b82-d7a2910ef36b",
   "metadata": {},
   "source": [
    "Before you begin, remember to import the necessary libraries."
   ]
  },
  {
   "cell_type": "code",
   "execution_count": 1,
   "id": "33de4fa0-4c6b-412e-9d31-b60b777ec39a",
   "metadata": {},
   "outputs": [],
   "source": [
    "import numpy as np\n",
    "import pandas as pd\n",
    "from scipy import stats\n",
    "\n",
    "import matplotlib.pyplot as plt\n",
    "import seaborn as sns\n",
    "sns.set_theme()"
   ]
  },
  {
   "cell_type": "markdown",
   "id": "27b04ce2-c877-4690-ab17-0936ded72eca",
   "metadata": {},
   "source": [
    "The following `cc` DataFrame comes from [this Kaggle dataset](https://www.kaggle.com/datasets/satvicoder/call-center-data?resource=download) and contains data coming from a Call Center. Have a look at the data itself as well as the column's data types. "
   ]
  },
  {
   "cell_type": "code",
   "execution_count": 2,
   "id": "6463c1ad-2110-4b98-a38f-35bd37013443",
   "metadata": {},
   "outputs": [
    {
     "data": {
      "text/html": [
       "<div>\n",
       "<style scoped>\n",
       "    .dataframe tbody tr th:only-of-type {\n",
       "        vertical-align: middle;\n",
       "    }\n",
       "\n",
       "    .dataframe tbody tr th {\n",
       "        vertical-align: top;\n",
       "    }\n",
       "\n",
       "    .dataframe thead th {\n",
       "        text-align: right;\n",
       "    }\n",
       "</style>\n",
       "<table border=\"1\" class=\"dataframe\">\n",
       "  <thead>\n",
       "    <tr style=\"text-align: right;\">\n",
       "      <th></th>\n",
       "      <th>Index</th>\n",
       "      <th>Incoming Calls</th>\n",
       "      <th>Answered Calls</th>\n",
       "      <th>Answer Rate</th>\n",
       "      <th>Abandoned Calls</th>\n",
       "      <th>Answer Speed (AVG)</th>\n",
       "      <th>Talk Duration (AVG)</th>\n",
       "      <th>Waiting Time (AVG)</th>\n",
       "      <th>Service Level (20 Seconds)</th>\n",
       "    </tr>\n",
       "  </thead>\n",
       "  <tbody>\n",
       "    <tr>\n",
       "      <th>612</th>\n",
       "      <td>613</td>\n",
       "      <td>190</td>\n",
       "      <td>183</td>\n",
       "      <td>96.32%</td>\n",
       "      <td>7</td>\n",
       "      <td>0:00:16</td>\n",
       "      <td>0:02:32</td>\n",
       "      <td>0:01:59</td>\n",
       "      <td>78.95%</td>\n",
       "    </tr>\n",
       "    <tr>\n",
       "      <th>1083</th>\n",
       "      <td>1084</td>\n",
       "      <td>340</td>\n",
       "      <td>327</td>\n",
       "      <td>96.18%</td>\n",
       "      <td>13</td>\n",
       "      <td>0:00:21</td>\n",
       "      <td>0:01:55</td>\n",
       "      <td>0:03:46</td>\n",
       "      <td>77.61%</td>\n",
       "    </tr>\n",
       "    <tr>\n",
       "      <th>742</th>\n",
       "      <td>743</td>\n",
       "      <td>171</td>\n",
       "      <td>163</td>\n",
       "      <td>95.32%</td>\n",
       "      <td>8</td>\n",
       "      <td>0:00:19</td>\n",
       "      <td>0:02:41</td>\n",
       "      <td>0:02:48</td>\n",
       "      <td>69.41%</td>\n",
       "    </tr>\n",
       "    <tr>\n",
       "      <th>962</th>\n",
       "      <td>963</td>\n",
       "      <td>242</td>\n",
       "      <td>211</td>\n",
       "      <td>87.19%</td>\n",
       "      <td>31</td>\n",
       "      <td>0:00:44</td>\n",
       "      <td>0:02:57</td>\n",
       "      <td>0:06:08</td>\n",
       "      <td>47.70%</td>\n",
       "    </tr>\n",
       "    <tr>\n",
       "      <th>491</th>\n",
       "      <td>492</td>\n",
       "      <td>137</td>\n",
       "      <td>130</td>\n",
       "      <td>94.89%</td>\n",
       "      <td>7</td>\n",
       "      <td>0:00:26</td>\n",
       "      <td>0:02:25</td>\n",
       "      <td>0:02:06</td>\n",
       "      <td>64.44%</td>\n",
       "    </tr>\n",
       "  </tbody>\n",
       "</table>\n",
       "</div>"
      ],
      "text/plain": [
       "      Index  Incoming Calls  Answered Calls Answer Rate  Abandoned Calls  \\\n",
       "612     613             190             183      96.32%                7   \n",
       "1083   1084             340             327      96.18%               13   \n",
       "742     743             171             163      95.32%                8   \n",
       "962     963             242             211      87.19%               31   \n",
       "491     492             137             130      94.89%                7   \n",
       "\n",
       "     Answer Speed (AVG) Talk Duration (AVG) Waiting Time (AVG)  \\\n",
       "612             0:00:16             0:02:32            0:01:59   \n",
       "1083            0:00:21             0:01:55            0:03:46   \n",
       "742             0:00:19             0:02:41            0:02:48   \n",
       "962             0:00:44             0:02:57            0:06:08   \n",
       "491             0:00:26             0:02:25            0:02:06   \n",
       "\n",
       "     Service Level (20 Seconds)  \n",
       "612                      78.95%  \n",
       "1083                     77.61%  \n",
       "742                      69.41%  \n",
       "962                      47.70%  \n",
       "491                      64.44%  "
      ]
     },
     "execution_count": 2,
     "metadata": {},
     "output_type": "execute_result"
    }
   ],
   "source": [
    "# Run this cell - do not delete it\n",
    "cc = pd.read_csv(\"data/Call Center Data.csv\")\n",
    "cc.sample(5)"
   ]
  },
  {
   "cell_type": "code",
   "execution_count": 12,
   "id": "f315ec99-849c-4f95-ba07-7f2410128240",
   "metadata": {},
   "outputs": [
    {
     "name": "stdout",
     "output_type": "stream",
     "text": [
      "<class 'pandas.core.frame.DataFrame'>\n",
      "RangeIndex: 1251 entries, 0 to 1250\n",
      "Data columns (total 9 columns):\n",
      " #   Column                      Non-Null Count  Dtype  \n",
      "---  ------                      --------------  -----  \n",
      " 0   Index                       1251 non-null   int64  \n",
      " 1   Incoming Calls              1251 non-null   int64  \n",
      " 2   Answered Calls              1251 non-null   int64  \n",
      " 3   Answer Rate                 1251 non-null   float64\n",
      " 4   Abandoned Calls             1251 non-null   int64  \n",
      " 5   Answer Speed (AVG)          1251 non-null   object \n",
      " 6   Talk Duration (AVG)         1251 non-null   object \n",
      " 7   Waiting Time (AVG)          1251 non-null   object \n",
      " 8   Service Level (20 Seconds)  1251 non-null   float64\n",
      "dtypes: float64(2), int64(4), object(3)\n",
      "memory usage: 88.1+ KB\n"
     ]
    }
   ],
   "source": [
    "cc.info()"
   ]
  },
  {
   "cell_type": "markdown",
   "id": "d9787e5b-c46c-4edc-a54b-19810e300205",
   "metadata": {},
   "source": [
    "1. As you can see, some of the columns such as `Answer Rate` and `Service Level (20 Seconds)` have % signs in them and are thus interpreted as strings. Convert them to numeric. "
   ]
  },
  {
   "cell_type": "code",
   "execution_count": 9,
   "id": "0efb9452-c623-4081-8274-3c0b23e771ba",
   "metadata": {
    "collapsed": true,
    "jupyter": {
     "outputs_hidden": true
    },
    "tags": []
   },
   "outputs": [
    {
     "ename": "AttributeError",
     "evalue": "Can only use .str accessor with string values!",
     "output_type": "error",
     "traceback": [
      "\u001b[0;31m---------------------------------------------------------------------------\u001b[0m",
      "\u001b[0;31mAttributeError\u001b[0m                            Traceback (most recent call last)",
      "Input \u001b[0;32mIn [9]\u001b[0m, in \u001b[0;36m<cell line: 1>\u001b[0;34m()\u001b[0m\n\u001b[0;32m----> 1\u001b[0m cc[\u001b[38;5;124m'\u001b[39m\u001b[38;5;124mAnswer Rate\u001b[39m\u001b[38;5;124m'\u001b[39m] \u001b[38;5;241m=\u001b[39m \u001b[43mcc\u001b[49m\u001b[43m[\u001b[49m\u001b[38;5;124;43m'\u001b[39;49m\u001b[38;5;124;43mAnswer Rate\u001b[39;49m\u001b[38;5;124;43m'\u001b[39;49m\u001b[43m]\u001b[49m\u001b[38;5;241;43m.\u001b[39;49m\u001b[43mstr\u001b[49m\u001b[38;5;241m.\u001b[39mreplace(\u001b[38;5;124m'\u001b[39m\u001b[38;5;124m%\u001b[39m\u001b[38;5;124m'\u001b[39m, \u001b[38;5;124m'\u001b[39m\u001b[38;5;124m'\u001b[39m)\u001b[38;5;241m.\u001b[39mastype(\u001b[38;5;124m'\u001b[39m\u001b[38;5;124mfloat\u001b[39m\u001b[38;5;124m'\u001b[39m)\n\u001b[1;32m      2\u001b[0m cc[\u001b[38;5;124m'\u001b[39m\u001b[38;5;124mService Level (20 Seconds)\u001b[39m\u001b[38;5;124m'\u001b[39m] \u001b[38;5;241m=\u001b[39m cc[\u001b[38;5;124m'\u001b[39m\u001b[38;5;124mService Level (20 Seconds)\u001b[39m\u001b[38;5;124m'\u001b[39m]\u001b[38;5;241m.\u001b[39mstr\u001b[38;5;241m.\u001b[39mreplace(\u001b[38;5;124m'\u001b[39m\u001b[38;5;124m%\u001b[39m\u001b[38;5;124m'\u001b[39m, \u001b[38;5;124m'\u001b[39m\u001b[38;5;124m'\u001b[39m)\u001b[38;5;241m.\u001b[39mastype(\u001b[38;5;124m'\u001b[39m\u001b[38;5;124mfloat\u001b[39m\u001b[38;5;124m'\u001b[39m)\n\u001b[1;32m      3\u001b[0m cc\u001b[38;5;241m.\u001b[39mhead()\n",
      "File \u001b[0;32m~/opt/anaconda3/lib/python3.9/site-packages/pandas/core/generic.py:5575\u001b[0m, in \u001b[0;36mNDFrame.__getattr__\u001b[0;34m(self, name)\u001b[0m\n\u001b[1;32m   5568\u001b[0m \u001b[38;5;28;01mif\u001b[39;00m (\n\u001b[1;32m   5569\u001b[0m     name \u001b[38;5;129;01mnot\u001b[39;00m \u001b[38;5;129;01min\u001b[39;00m \u001b[38;5;28mself\u001b[39m\u001b[38;5;241m.\u001b[39m_internal_names_set\n\u001b[1;32m   5570\u001b[0m     \u001b[38;5;129;01mand\u001b[39;00m name \u001b[38;5;129;01mnot\u001b[39;00m \u001b[38;5;129;01min\u001b[39;00m \u001b[38;5;28mself\u001b[39m\u001b[38;5;241m.\u001b[39m_metadata\n\u001b[1;32m   5571\u001b[0m     \u001b[38;5;129;01mand\u001b[39;00m name \u001b[38;5;129;01mnot\u001b[39;00m \u001b[38;5;129;01min\u001b[39;00m \u001b[38;5;28mself\u001b[39m\u001b[38;5;241m.\u001b[39m_accessors\n\u001b[1;32m   5572\u001b[0m     \u001b[38;5;129;01mand\u001b[39;00m \u001b[38;5;28mself\u001b[39m\u001b[38;5;241m.\u001b[39m_info_axis\u001b[38;5;241m.\u001b[39m_can_hold_identifiers_and_holds_name(name)\n\u001b[1;32m   5573\u001b[0m ):\n\u001b[1;32m   5574\u001b[0m     \u001b[38;5;28;01mreturn\u001b[39;00m \u001b[38;5;28mself\u001b[39m[name]\n\u001b[0;32m-> 5575\u001b[0m \u001b[38;5;28;01mreturn\u001b[39;00m \u001b[38;5;28;43mobject\u001b[39;49m\u001b[38;5;241;43m.\u001b[39;49m\u001b[38;5;21;43m__getattribute__\u001b[39;49m\u001b[43m(\u001b[49m\u001b[38;5;28;43mself\u001b[39;49m\u001b[43m,\u001b[49m\u001b[43m \u001b[49m\u001b[43mname\u001b[49m\u001b[43m)\u001b[49m\n",
      "File \u001b[0;32m~/opt/anaconda3/lib/python3.9/site-packages/pandas/core/accessor.py:182\u001b[0m, in \u001b[0;36mCachedAccessor.__get__\u001b[0;34m(self, obj, cls)\u001b[0m\n\u001b[1;32m    179\u001b[0m \u001b[38;5;28;01mif\u001b[39;00m obj \u001b[38;5;129;01mis\u001b[39;00m \u001b[38;5;28;01mNone\u001b[39;00m:\n\u001b[1;32m    180\u001b[0m     \u001b[38;5;66;03m# we're accessing the attribute of the class, i.e., Dataset.geo\u001b[39;00m\n\u001b[1;32m    181\u001b[0m     \u001b[38;5;28;01mreturn\u001b[39;00m \u001b[38;5;28mself\u001b[39m\u001b[38;5;241m.\u001b[39m_accessor\n\u001b[0;32m--> 182\u001b[0m accessor_obj \u001b[38;5;241m=\u001b[39m \u001b[38;5;28;43mself\u001b[39;49m\u001b[38;5;241;43m.\u001b[39;49m\u001b[43m_accessor\u001b[49m\u001b[43m(\u001b[49m\u001b[43mobj\u001b[49m\u001b[43m)\u001b[49m\n\u001b[1;32m    183\u001b[0m \u001b[38;5;66;03m# Replace the property with the accessor object. Inspired by:\u001b[39;00m\n\u001b[1;32m    184\u001b[0m \u001b[38;5;66;03m# https://www.pydanny.com/cached-property.html\u001b[39;00m\n\u001b[1;32m    185\u001b[0m \u001b[38;5;66;03m# We need to use object.__setattr__ because we overwrite __setattr__ on\u001b[39;00m\n\u001b[1;32m    186\u001b[0m \u001b[38;5;66;03m# NDFrame\u001b[39;00m\n\u001b[1;32m    187\u001b[0m \u001b[38;5;28mobject\u001b[39m\u001b[38;5;241m.\u001b[39m\u001b[38;5;21m__setattr__\u001b[39m(obj, \u001b[38;5;28mself\u001b[39m\u001b[38;5;241m.\u001b[39m_name, accessor_obj)\n",
      "File \u001b[0;32m~/opt/anaconda3/lib/python3.9/site-packages/pandas/core/strings/accessor.py:177\u001b[0m, in \u001b[0;36mStringMethods.__init__\u001b[0;34m(self, data)\u001b[0m\n\u001b[1;32m    174\u001b[0m \u001b[38;5;28;01mdef\u001b[39;00m \u001b[38;5;21m__init__\u001b[39m(\u001b[38;5;28mself\u001b[39m, data):\n\u001b[1;32m    175\u001b[0m     \u001b[38;5;28;01mfrom\u001b[39;00m \u001b[38;5;21;01mpandas\u001b[39;00m\u001b[38;5;21;01m.\u001b[39;00m\u001b[38;5;21;01mcore\u001b[39;00m\u001b[38;5;21;01m.\u001b[39;00m\u001b[38;5;21;01marrays\u001b[39;00m\u001b[38;5;21;01m.\u001b[39;00m\u001b[38;5;21;01mstring_\u001b[39;00m \u001b[38;5;28;01mimport\u001b[39;00m StringDtype\n\u001b[0;32m--> 177\u001b[0m     \u001b[38;5;28mself\u001b[39m\u001b[38;5;241m.\u001b[39m_inferred_dtype \u001b[38;5;241m=\u001b[39m \u001b[38;5;28;43mself\u001b[39;49m\u001b[38;5;241;43m.\u001b[39;49m\u001b[43m_validate\u001b[49m\u001b[43m(\u001b[49m\u001b[43mdata\u001b[49m\u001b[43m)\u001b[49m\n\u001b[1;32m    178\u001b[0m     \u001b[38;5;28mself\u001b[39m\u001b[38;5;241m.\u001b[39m_is_categorical \u001b[38;5;241m=\u001b[39m is_categorical_dtype(data\u001b[38;5;241m.\u001b[39mdtype)\n\u001b[1;32m    179\u001b[0m     \u001b[38;5;28mself\u001b[39m\u001b[38;5;241m.\u001b[39m_is_string \u001b[38;5;241m=\u001b[39m \u001b[38;5;28misinstance\u001b[39m(data\u001b[38;5;241m.\u001b[39mdtype, StringDtype)\n",
      "File \u001b[0;32m~/opt/anaconda3/lib/python3.9/site-packages/pandas/core/strings/accessor.py:231\u001b[0m, in \u001b[0;36mStringMethods._validate\u001b[0;34m(data)\u001b[0m\n\u001b[1;32m    228\u001b[0m inferred_dtype \u001b[38;5;241m=\u001b[39m lib\u001b[38;5;241m.\u001b[39minfer_dtype(values, skipna\u001b[38;5;241m=\u001b[39m\u001b[38;5;28;01mTrue\u001b[39;00m)\n\u001b[1;32m    230\u001b[0m \u001b[38;5;28;01mif\u001b[39;00m inferred_dtype \u001b[38;5;129;01mnot\u001b[39;00m \u001b[38;5;129;01min\u001b[39;00m allowed_types:\n\u001b[0;32m--> 231\u001b[0m     \u001b[38;5;28;01mraise\u001b[39;00m \u001b[38;5;167;01mAttributeError\u001b[39;00m(\u001b[38;5;124m\"\u001b[39m\u001b[38;5;124mCan only use .str accessor with string values!\u001b[39m\u001b[38;5;124m\"\u001b[39m)\n\u001b[1;32m    232\u001b[0m \u001b[38;5;28;01mreturn\u001b[39;00m inferred_dtype\n",
      "\u001b[0;31mAttributeError\u001b[0m: Can only use .str accessor with string values!"
     ]
    }
   ],
   "source": [
    "cc['Answer Rate'] = cc['Answer Rate'].str.replace('%', '').astype('float')"
   ]
  },
  {
   "cell_type": "code",
   "execution_count": 11,
   "id": "be26a0d3-5df8-4011-839b-7521b50903ff",
   "metadata": {},
   "outputs": [],
   "source": [
    "cc['Service Level (20 Seconds)'] = cc['Service Level (20 Seconds)'].str.replace('%', '').astype('float')"
   ]
  },
  {
   "cell_type": "markdown",
   "id": "e4528645-6de4-406e-bd5b-804259b130cd",
   "metadata": {},
   "source": [
    "2. The other issue is with the columns `Answer Speed (AVG)`, `Talk Duration (AVG)` and `Waiting Time (AVG)`. The cell below shows you how to convert the `Answer Speed (AVG)` string variable to a new column `Answer Speed (sec)` showing the same time information in seconds. Your task is to **create a function** that, given the following inputs, creates a new column in the DataFrame with the correct format in seconds: \n",
    "    1. `df`: DataFrame name \n",
    "    2. `old_col`: the existing column name in string format \n",
    "    3. `new_col`: new column name to be created in (sec) format "
   ]
  },
  {
   "cell_type": "code",
   "execution_count": 13,
   "id": "39bcdb30-715a-488f-8a6c-bedc69093795",
   "metadata": {},
   "outputs": [
    {
     "data": {
      "text/html": [
       "<div>\n",
       "<style scoped>\n",
       "    .dataframe tbody tr th:only-of-type {\n",
       "        vertical-align: middle;\n",
       "    }\n",
       "\n",
       "    .dataframe tbody tr th {\n",
       "        vertical-align: top;\n",
       "    }\n",
       "\n",
       "    .dataframe thead th {\n",
       "        text-align: right;\n",
       "    }\n",
       "</style>\n",
       "<table border=\"1\" class=\"dataframe\">\n",
       "  <thead>\n",
       "    <tr style=\"text-align: right;\">\n",
       "      <th></th>\n",
       "      <th>Index</th>\n",
       "      <th>Incoming Calls</th>\n",
       "      <th>Answered Calls</th>\n",
       "      <th>Answer Rate</th>\n",
       "      <th>Abandoned Calls</th>\n",
       "      <th>Answer Speed (AVG)</th>\n",
       "      <th>Talk Duration (AVG)</th>\n",
       "      <th>Waiting Time (AVG)</th>\n",
       "      <th>Service Level (20 Seconds)</th>\n",
       "      <th>Answer Speed (sec)</th>\n",
       "    </tr>\n",
       "  </thead>\n",
       "  <tbody>\n",
       "    <tr>\n",
       "      <th>0</th>\n",
       "      <td>1</td>\n",
       "      <td>217</td>\n",
       "      <td>204</td>\n",
       "      <td>94.01</td>\n",
       "      <td>13</td>\n",
       "      <td>0:00:17</td>\n",
       "      <td>0:02:14</td>\n",
       "      <td>0:02:45</td>\n",
       "      <td>76.28</td>\n",
       "      <td>17.0</td>\n",
       "    </tr>\n",
       "    <tr>\n",
       "      <th>1</th>\n",
       "      <td>2</td>\n",
       "      <td>200</td>\n",
       "      <td>182</td>\n",
       "      <td>91.00</td>\n",
       "      <td>18</td>\n",
       "      <td>0:00:20</td>\n",
       "      <td>0:02:22</td>\n",
       "      <td>0:06:55</td>\n",
       "      <td>72.73</td>\n",
       "      <td>20.0</td>\n",
       "    </tr>\n",
       "    <tr>\n",
       "      <th>2</th>\n",
       "      <td>3</td>\n",
       "      <td>216</td>\n",
       "      <td>198</td>\n",
       "      <td>91.67</td>\n",
       "      <td>18</td>\n",
       "      <td>0:00:18</td>\n",
       "      <td>0:02:38</td>\n",
       "      <td>0:03:50</td>\n",
       "      <td>74.30</td>\n",
       "      <td>18.0</td>\n",
       "    </tr>\n",
       "    <tr>\n",
       "      <th>3</th>\n",
       "      <td>4</td>\n",
       "      <td>155</td>\n",
       "      <td>145</td>\n",
       "      <td>93.55</td>\n",
       "      <td>10</td>\n",
       "      <td>0:00:15</td>\n",
       "      <td>0:02:29</td>\n",
       "      <td>0:03:12</td>\n",
       "      <td>79.61</td>\n",
       "      <td>15.0</td>\n",
       "    </tr>\n",
       "    <tr>\n",
       "      <th>4</th>\n",
       "      <td>5</td>\n",
       "      <td>37</td>\n",
       "      <td>37</td>\n",
       "      <td>100.00</td>\n",
       "      <td>0</td>\n",
       "      <td>0:00:03</td>\n",
       "      <td>0:02:06</td>\n",
       "      <td>0:00:35</td>\n",
       "      <td>97.30</td>\n",
       "      <td>3.0</td>\n",
       "    </tr>\n",
       "  </tbody>\n",
       "</table>\n",
       "</div>"
      ],
      "text/plain": [
       "   Index  Incoming Calls  Answered Calls  Answer Rate  Abandoned Calls  \\\n",
       "0      1             217             204        94.01               13   \n",
       "1      2             200             182        91.00               18   \n",
       "2      3             216             198        91.67               18   \n",
       "3      4             155             145        93.55               10   \n",
       "4      5              37              37       100.00                0   \n",
       "\n",
       "  Answer Speed (AVG) Talk Duration (AVG) Waiting Time (AVG)  \\\n",
       "0            0:00:17             0:02:14            0:02:45   \n",
       "1            0:00:20             0:02:22            0:06:55   \n",
       "2            0:00:18             0:02:38            0:03:50   \n",
       "3            0:00:15             0:02:29            0:03:12   \n",
       "4            0:00:03             0:02:06            0:00:35   \n",
       "\n",
       "   Service Level (20 Seconds)  Answer Speed (sec)  \n",
       "0                       76.28                17.0  \n",
       "1                       72.73                20.0  \n",
       "2                       74.30                18.0  \n",
       "3                       79.61                15.0  \n",
       "4                       97.30                 3.0  "
      ]
     },
     "execution_count": 13,
     "metadata": {},
     "output_type": "execute_result"
    }
   ],
   "source": [
    "# Run this cell - do not delete it\n",
    "import datetime\n",
    "import time\n",
    "time_list = [time.strptime(el,'%H:%M:%S') for el in cc['Answer Speed (AVG)']]\n",
    "cc['Answer Speed (sec)'] = [datetime.timedelta(hours=x.tm_hour,minutes=x.tm_min,seconds=x.tm_sec).total_seconds() for x in time_list]\n",
    "cc.head()"
   ]
  },
  {
   "cell_type": "code",
   "execution_count": 21,
   "id": "5825e9bc-6a40-4144-b750-e0e1c4d13b42",
   "metadata": {},
   "outputs": [],
   "source": [
    "def str_to_sec(df, old_col, new_col):\n",
    "    time_list = [time.strptime(el,'%H:%M:%S') for el in df[old_col]]\n",
    "    df[new_col] = [datetime.timedelta(hours=x.tm_hour,minutes=x.tm_min,seconds=x.tm_sec).total_seconds() for x in time_list]"
   ]
  },
  {
   "cell_type": "markdown",
   "id": "9b1d581e-0370-4fb9-a0f3-9b346d5a7de0",
   "metadata": {},
   "source": [
    "3. Use the above formula to generate two new columns that will take as input the `Talk Duration (AVG)` and `Waiting Time (AVG)` variables and convert them to two new variables called `Talk Duration (sec)` and `Waiting Time (sec)`, having the correct data format in seconds (data type will be float). "
   ]
  },
  {
   "cell_type": "code",
   "execution_count": 22,
   "id": "bbd6923c-cfa3-4751-bae8-a1fcefdb0cf9",
   "metadata": {},
   "outputs": [
    {
     "data": {
      "text/html": [
       "<div>\n",
       "<style scoped>\n",
       "    .dataframe tbody tr th:only-of-type {\n",
       "        vertical-align: middle;\n",
       "    }\n",
       "\n",
       "    .dataframe tbody tr th {\n",
       "        vertical-align: top;\n",
       "    }\n",
       "\n",
       "    .dataframe thead th {\n",
       "        text-align: right;\n",
       "    }\n",
       "</style>\n",
       "<table border=\"1\" class=\"dataframe\">\n",
       "  <thead>\n",
       "    <tr style=\"text-align: right;\">\n",
       "      <th></th>\n",
       "      <th>Index</th>\n",
       "      <th>Incoming Calls</th>\n",
       "      <th>Answered Calls</th>\n",
       "      <th>Answer Rate</th>\n",
       "      <th>Abandoned Calls</th>\n",
       "      <th>Answer Speed (AVG)</th>\n",
       "      <th>Talk Duration (AVG)</th>\n",
       "      <th>Waiting Time (AVG)</th>\n",
       "      <th>Service Level (20 Seconds)</th>\n",
       "      <th>Answer Speed (sec)</th>\n",
       "      <th>Talk Duration (sec)</th>\n",
       "      <th>Waiting Time (sec)</th>\n",
       "    </tr>\n",
       "  </thead>\n",
       "  <tbody>\n",
       "    <tr>\n",
       "      <th>566</th>\n",
       "      <td>567</td>\n",
       "      <td>139</td>\n",
       "      <td>128</td>\n",
       "      <td>92.09</td>\n",
       "      <td>11</td>\n",
       "      <td>0:00:32</td>\n",
       "      <td>0:02:44</td>\n",
       "      <td>0:03:34</td>\n",
       "      <td>51.80</td>\n",
       "      <td>32.0</td>\n",
       "      <td>164.0</td>\n",
       "      <td>214.0</td>\n",
       "    </tr>\n",
       "    <tr>\n",
       "      <th>740</th>\n",
       "      <td>741</td>\n",
       "      <td>232</td>\n",
       "      <td>204</td>\n",
       "      <td>87.93</td>\n",
       "      <td>28</td>\n",
       "      <td>0:00:32</td>\n",
       "      <td>0:02:22</td>\n",
       "      <td>0:03:56</td>\n",
       "      <td>55.41</td>\n",
       "      <td>32.0</td>\n",
       "      <td>142.0</td>\n",
       "      <td>236.0</td>\n",
       "    </tr>\n",
       "    <tr>\n",
       "      <th>1186</th>\n",
       "      <td>1187</td>\n",
       "      <td>24</td>\n",
       "      <td>24</td>\n",
       "      <td>100.00</td>\n",
       "      <td>0</td>\n",
       "      <td>0:00:04</td>\n",
       "      <td>0:02:36</td>\n",
       "      <td>0:00:21</td>\n",
       "      <td>100.00</td>\n",
       "      <td>4.0</td>\n",
       "      <td>156.0</td>\n",
       "      <td>21.0</td>\n",
       "    </tr>\n",
       "  </tbody>\n",
       "</table>\n",
       "</div>"
      ],
      "text/plain": [
       "      Index  Incoming Calls  Answered Calls  Answer Rate  Abandoned Calls  \\\n",
       "566     567             139             128        92.09               11   \n",
       "740     741             232             204        87.93               28   \n",
       "1186   1187              24              24       100.00                0   \n",
       "\n",
       "     Answer Speed (AVG) Talk Duration (AVG) Waiting Time (AVG)  \\\n",
       "566             0:00:32             0:02:44            0:03:34   \n",
       "740             0:00:32             0:02:22            0:03:56   \n",
       "1186            0:00:04             0:02:36            0:00:21   \n",
       "\n",
       "      Service Level (20 Seconds)  Answer Speed (sec)  Talk Duration (sec)  \\\n",
       "566                        51.80                32.0                164.0   \n",
       "740                        55.41                32.0                142.0   \n",
       "1186                      100.00                 4.0                156.0   \n",
       "\n",
       "      Waiting Time (sec)  \n",
       "566                214.0  \n",
       "740                236.0  \n",
       "1186                21.0  "
      ]
     },
     "execution_count": 22,
     "metadata": {},
     "output_type": "execute_result"
    }
   ],
   "source": [
    "str_to_sec(cc, 'Talk Duration (AVG)', 'Talk Duration (sec)')\n",
    "str_to_sec(cc, 'Waiting Time (AVG)', 'Waiting Time (sec)')\n",
    "cc.sample(3)"
   ]
  },
  {
   "cell_type": "markdown",
   "id": "0ac670b1-1f7a-4552-b6cd-f55521161828",
   "metadata": {},
   "source": [
    "4. Explore the numeric data contained in the `cc` DataFrame. Choose a visualisation tool between box plot, histogram and density plot and, for the following three variables, visualise and describe their distribution by commenting on their first four moments (mean, standard deviation, skewness and kurtosis): \n",
    "    1. `Incoming Calls`\n",
    "    2. `Talk Duration (sec)`\n",
    "    3. `Answer Rate`"
   ]
  },
  {
   "cell_type": "code",
   "execution_count": 30,
   "id": "8d465dd2-3f43-4169-ac57-4ed9cb6f2fee",
   "metadata": {},
   "outputs": [
    {
     "data": {
      "text/plain": [
       "<AxesSubplot:xlabel='Incoming Calls', ylabel='Count'>"
      ]
     },
     "execution_count": 30,
     "metadata": {},
     "output_type": "execute_result"
    },
    {
     "data": {
      "image/png": "[encoded data removed]",
      "text/plain": [
       "<Figure size 432x288 with 1 Axes>"
      ]
     },
     "metadata": {},
     "output_type": "display_data"
    }
   ],
   "source": [
    "sns.histplot(cc, x= 'Incoming Calls')"
   ]
  },
  {
   "cell_type": "code",
   "execution_count": 32,
   "id": "75572954-8232-4ed7-bb58-f98914ca5e72",
   "metadata": {},
   "outputs": [
    {
     "data": {
      "text/plain": [
       "<AxesSubplot:xlabel='Talk Duration (sec)', ylabel='Count'>"
      ]
     },
     "execution_count": 32,
     "metadata": {},
     "output_type": "execute_result"
    },
    {
     "data": {
      "image/png": "[encoded data removed]",
      "text/plain": [
       "<Figure size 432x288 with 1 Axes>"
      ]
     },
     "metadata": {},
     "output_type": "display_data"
    }
   ],
   "source": [
    " sns.histplot(cc, x= 'Talk Duration (sec)')"
   ]
  },
  {
   "cell_type": "code",
   "execution_count": 33,
   "id": "cf12a8c9-49ee-4ef0-bd67-3a7f1ed03887",
   "metadata": {},
   "outputs": [
    {
     "data": {
      "text/plain": [
       "<AxesSubplot:xlabel='Answer Rate', ylabel='Count'>"
      ]
     },
     "execution_count": 33,
     "metadata": {},
     "output_type": "execute_result"
    },
    {
     "data": {
      "image/png": "[encoded data removed]",
      "text/plain": [
       "<Figure size 432x288 with 1 Axes>"
      ]
     },
     "metadata": {},
     "output_type": "display_data"
    }
   ],
   "source": [
    " sns.histplot(cc, x= 'Answer Rate')"
   ]
  },
  {
   "cell_type": "markdown",
   "id": "b9edb2ac-2505-4e72-9f06-5f2be92ac83b",
   "metadata": {},
   "source": [
    "5. Use an appropriate plot to visualise the bivariate distribution of the `Waiting Time (sec)` and `Service Level (20 Seconds)` variables. What kind of relationship there is between these two variables? Why do you think that is? "
   ]
  },
  {
   "cell_type": "code",
   "execution_count": 37,
   "id": "e8ac346a-d483-41af-93d1-21f83172678f",
   "metadata": {},
   "outputs": [
    {
     "data": {
      "image/png": "[encoded data removed]",
      "text/plain": [
       "<Figure size 432x432 with 3 Axes>"
      ]
     },
     "metadata": {},
     "output_type": "display_data"
    }
   ],
   "source": [
    "sns.jointplot(x=\"Waiting Time (sec)\", y=\"Service Level (20 Seconds)\", data = cc)\n",
    "plt.show()"
   ]
  },
  {
   "cell_type": "code",
   "execution_count": null,
   "id": "c5fb1149-5df1-4d68-a235-64770d5555f5",
   "metadata": {},
   "outputs": [],
   "source": []
  },
  {
   "cell_type": "code",
   "execution_count": null,
   "id": "0308483e-3453-4266-b033-63eb40ee2e1a",
   "metadata": {},
   "outputs": [],
   "source": []
  }
 ],
 "metadata": {
  "kernelspec": {
   "display_name": "Python 3 (ipykernel)",
   "language": "python",
   "name": "python3"
  },
  "language_info": {
   "codemirror_mode": {
    "name": "ipython",
    "version": 3
   },
   "file_extension": ".py",
   "mimetype": "text/x-python",
   "name": "python",
   "nbconvert_exporter": "python",
   "pygments_lexer": "ipython3",
   "version": "3.9.12"
  }
 },
 "nbformat": 4,
 "nbformat_minor": 5
}
