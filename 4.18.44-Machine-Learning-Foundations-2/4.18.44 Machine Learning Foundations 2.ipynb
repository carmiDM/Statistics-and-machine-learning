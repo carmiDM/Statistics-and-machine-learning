{
 "cells": [
  {
   "cell_type": "markdown",
   "id": "f3105c44-4289-4936-ae67-f1aad9ea217f",
   "metadata": {
    "tags": []
   },
   "source": [
    "# 4.18.44 Machine Learning Foundations 2"
   ]
  },
  {
   "cell_type": "markdown",
   "id": "bc3043d1-c3a5-41e7-8157-078aa5a3ebd0",
   "metadata": {
    "tags": []
   },
   "source": [
    "### Multiple Linear Regression\n",
    "\n",
    "The type of regression that we've seen so far is called **simple linear regression**, because it studies the relationship between one dependent variable $y$ and one predictor variable $X$. Sometimes you may want to use several independent variables $x_1, x_2, ..., x_n$ to predict the response variable $y$, in such cases we talk about **multiple linear regression**. \n",
    "\n",
    "#### Assumptions\n",
    "\n",
    "There are some **important assumptions** to be aware of when doing multiple regression: \n",
    "\n",
    "- there is a *linear relationship* between both the dependent and independent variables; \n",
    "- there is *no major correlation* between the independent variables. \n",
    "- other more technical assumptions are [listed here](https://en.wikipedia.org/wiki/Linear_regression#Assumptions)\n",
    "\n",
    "#### The Model \n",
    "\n",
    "The general model for multiple linear regression is: \n",
    "\n",
    "$$\n",
    "    y = b_0 + b_1x_1 + b_2x_2 + ... + b_px_p + \\epsilon\n",
    "$$\n",
    "\n",
    "Since we're now working with more than one independent variable, we will have a matrix of predictors $X$ (containing the $x_1, x_2, ... x_p$ feature vectors), a set of parameters $b = [b_0, b_1, b_2, ..., b_p]$ as well as one vector $y$ containing the response variable. The previous equation can be rewritten in the following algebraic formulation: \n",
    "\n",
    "$$\n",
    "    y = b^TX\n",
    "$$\n",
    "\n",
    "where: \n",
    "\n",
    "- $X$ is a $n \\times p$ matrix containing $n$ observations and $p$ predictors\n",
    "- $b$ is a vector of length $p$ containing the regression coefficients\n",
    "- $y$ is a vector containing the $n$ response values\n",
    "\n",
    "Finally, the set of estimated parameters $\\hat{b}$ that **minimise the sum of squared residuals** is given by the following equation:  \n",
    "\n",
    "$$\n",
    "    \\hat{b} = (X^TX)^{-1}X^Ty\n",
    "$$\n",
    "\n",
    "You can find the complete derivation of the $\\hat{b}$ parameter estimate at [this page](https://en.wikipedia.org/wiki/Linear_regression#Least-squares_estimation_and_related_techniques)."
   ]
  },
  {
   "cell_type": "markdown",
   "id": "cf329eb7-acc0-44e5-b7ec-7f07f37202fb",
   "metadata": {},
   "source": [
    "We can easily do multiple regression with `statsmodels`, in fact we just need to specify a new $X$ object containing all the predictors we want to include. Let's use the same `penguins` example as before, but this time we want to predict the `body_mass_g` variable with the help of the following three independent variables: `bill_length_mm`, `bill_depth_mm`, `flipper_length_mm`."
   ]
  },
  {
   "cell_type": "code",
   "execution_count": 5,
   "id": "392aa3fc-20b6-496c-a552-9505d48c9a4e",
   "metadata": {},
   "outputs": [],
   "source": [
    "import numpy as np\n",
    "import pandas as pd\n",
    "\n",
    "import statsmodels.api as sm\n",
    "from sklearn.linear_model import LinearRegression\n",
    "\n",
    "from matplotlib import pyplot as plt\n",
    "import seaborn as sns\n",
    "sns.set_theme()"
   ]
  },
  {
   "cell_type": "code",
   "execution_count": 6,
   "id": "c8f08874-0a5d-45fe-810f-bc0c0ff61b71",
   "metadata": {},
   "outputs": [
    {
     "data": {
      "text/html": [
       "<div>\n",
       "<style scoped>\n",
       "    .dataframe tbody tr th:only-of-type {\n",
       "        vertical-align: middle;\n",
       "    }\n",
       "\n",
       "    .dataframe tbody tr th {\n",
       "        vertical-align: top;\n",
       "    }\n",
       "\n",
       "    .dataframe thead th {\n",
       "        text-align: right;\n",
       "    }\n",
       "</style>\n",
       "<table border=\"1\" class=\"dataframe\">\n",
       "  <thead>\n",
       "    <tr style=\"text-align: right;\">\n",
       "      <th></th>\n",
       "      <th>species</th>\n",
       "      <th>island</th>\n",
       "      <th>bill_length_mm</th>\n",
       "      <th>bill_depth_mm</th>\n",
       "      <th>flipper_length_mm</th>\n",
       "      <th>body_mass_g</th>\n",
       "      <th>sex</th>\n",
       "    </tr>\n",
       "  </thead>\n",
       "  <tbody>\n",
       "    <tr>\n",
       "      <th>0</th>\n",
       "      <td>Adelie</td>\n",
       "      <td>Torgersen</td>\n",
       "      <td>39.1</td>\n",
       "      <td>18.7</td>\n",
       "      <td>181.0</td>\n",
       "      <td>3750.0</td>\n",
       "      <td>Male</td>\n",
       "    </tr>\n",
       "    <tr>\n",
       "      <th>1</th>\n",
       "      <td>Adelie</td>\n",
       "      <td>Torgersen</td>\n",
       "      <td>39.5</td>\n",
       "      <td>17.4</td>\n",
       "      <td>186.0</td>\n",
       "      <td>3800.0</td>\n",
       "      <td>Female</td>\n",
       "    </tr>\n",
       "    <tr>\n",
       "      <th>2</th>\n",
       "      <td>Adelie</td>\n",
       "      <td>Torgersen</td>\n",
       "      <td>40.3</td>\n",
       "      <td>18.0</td>\n",
       "      <td>195.0</td>\n",
       "      <td>3250.0</td>\n",
       "      <td>Female</td>\n",
       "    </tr>\n",
       "    <tr>\n",
       "      <th>4</th>\n",
       "      <td>Adelie</td>\n",
       "      <td>Torgersen</td>\n",
       "      <td>36.7</td>\n",
       "      <td>19.3</td>\n",
       "      <td>193.0</td>\n",
       "      <td>3450.0</td>\n",
       "      <td>Female</td>\n",
       "    </tr>\n",
       "    <tr>\n",
       "      <th>5</th>\n",
       "      <td>Adelie</td>\n",
       "      <td>Torgersen</td>\n",
       "      <td>39.3</td>\n",
       "      <td>20.6</td>\n",
       "      <td>190.0</td>\n",
       "      <td>3650.0</td>\n",
       "      <td>Male</td>\n",
       "    </tr>\n",
       "  </tbody>\n",
       "</table>\n",
       "</div>"
      ],
      "text/plain": [
       "  species     island  bill_length_mm  bill_depth_mm  flipper_length_mm  \\\n",
       "0  Adelie  Torgersen            39.1           18.7              181.0   \n",
       "1  Adelie  Torgersen            39.5           17.4              186.0   \n",
       "2  Adelie  Torgersen            40.3           18.0              195.0   \n",
       "4  Adelie  Torgersen            36.7           19.3              193.0   \n",
       "5  Adelie  Torgersen            39.3           20.6              190.0   \n",
       "\n",
       "   body_mass_g     sex  \n",
       "0       3750.0    Male  \n",
       "1       3800.0  Female  \n",
       "2       3250.0  Female  \n",
       "4       3450.0  Female  \n",
       "5       3650.0    Male  "
      ]
     },
     "execution_count": 6,
     "metadata": {},
     "output_type": "execute_result"
    }
   ],
   "source": [
    "df = sns.load_dataset('penguins')\n",
    "df = df[~pd.isna(df.flipper_length_mm)]\n",
    "df.head()"
   ]
  },
  {
   "cell_type": "code",
   "execution_count": 7,
   "id": "2de12351-6e78-4ef4-870e-5a4657a6e013",
   "metadata": {},
   "outputs": [],
   "source": [
    "Y = df['body_mass_g']\n",
    "X = df[['bill_length_mm','bill_depth_mm','flipper_length_mm']]\n",
    "X = sm.add_constant(data=X)   # add a constant to the model\n",
    "model_mr = sm.OLS(endog=Y,exog=X)\n",
    "results_mr = model_mr.fit()"
   ]
  },
  {
   "cell_type": "code",
   "execution_count": 8,
   "id": "7fdee8f7-0909-48d2-98aa-fd15e30a37e9",
   "metadata": {},
   "outputs": [
    {
     "data": {
      "text/html": [
       "<table class=\"simpletable\">\n",
       "<caption>OLS Regression Results</caption>\n",
       "<tr>\n",
       "  <th>Dep. Variable:</th>       <td>body_mass_g</td>   <th>  R-squared:         </th> <td>   0.761</td> \n",
       "</tr>\n",
       "<tr>\n",
       "  <th>Model:</th>                   <td>OLS</td>       <th>  Adj. R-squared:    </th> <td>   0.759</td> \n",
       "</tr>\n",
       "<tr>\n",
       "  <th>Method:</th>             <td>Least Squares</td>  <th>  F-statistic:       </th> <td>   359.7</td> \n",
       "</tr>\n",
       "<tr>\n",
       "  <th>Date:</th>             <td>Fri, 19 Aug 2022</td> <th>  Prob (F-statistic):</th> <td>8.19e-105</td>\n",
       "</tr>\n",
       "<tr>\n",
       "  <th>Time:</th>                 <td>16:21:02</td>     <th>  Log-Likelihood:    </th> <td> -2526.7</td> \n",
       "</tr>\n",
       "<tr>\n",
       "  <th>No. Observations:</th>      <td>   342</td>      <th>  AIC:               </th> <td>   5061.</td> \n",
       "</tr>\n",
       "<tr>\n",
       "  <th>Df Residuals:</th>          <td>   338</td>      <th>  BIC:               </th> <td>   5077.</td> \n",
       "</tr>\n",
       "<tr>\n",
       "  <th>Df Model:</th>              <td>     3</td>      <th>                     </th>     <td> </td>    \n",
       "</tr>\n",
       "<tr>\n",
       "  <th>Covariance Type:</th>      <td>nonrobust</td>    <th>                     </th>     <td> </td>    \n",
       "</tr>\n",
       "</table>\n",
       "<table class=\"simpletable\">\n",
       "<tr>\n",
       "          <td></td>             <th>coef</th>     <th>std err</th>      <th>t</th>      <th>P>|t|</th>  <th>[0.025</th>    <th>0.975]</th>  \n",
       "</tr>\n",
       "<tr>\n",
       "  <th>const</th>             <td>-6424.7647</td> <td>  561.469</td> <td>  -11.443</td> <td> 0.000</td> <td>-7529.179</td> <td>-5320.351</td>\n",
       "</tr>\n",
       "<tr>\n",
       "  <th>bill_length_mm</th>    <td>    4.1618</td> <td>    5.329</td> <td>    0.781</td> <td> 0.435</td> <td>   -6.321</td> <td>   14.644</td>\n",
       "</tr>\n",
       "<tr>\n",
       "  <th>bill_depth_mm</th>     <td>   20.0495</td> <td>   13.694</td> <td>    1.464</td> <td> 0.144</td> <td>   -6.887</td> <td>   46.986</td>\n",
       "</tr>\n",
       "<tr>\n",
       "  <th>flipper_length_mm</th> <td>   50.2692</td> <td>    2.477</td> <td>   20.293</td> <td> 0.000</td> <td>   45.397</td> <td>   55.142</td>\n",
       "</tr>\n",
       "</table>\n",
       "<table class=\"simpletable\">\n",
       "<tr>\n",
       "  <th>Omnibus:</th>       <td> 5.263</td> <th>  Durbin-Watson:     </th> <td>   2.016</td>\n",
       "</tr>\n",
       "<tr>\n",
       "  <th>Prob(Omnibus):</th> <td> 0.072</td> <th>  Jarque-Bera (JB):  </th> <td>   5.129</td>\n",
       "</tr>\n",
       "<tr>\n",
       "  <th>Skew:</th>          <td> 0.298</td> <th>  Prob(JB):          </th> <td>  0.0770</td>\n",
       "</tr>\n",
       "<tr>\n",
       "  <th>Kurtosis:</th>      <td> 3.065</td> <th>  Cond. No.          </th> <td>5.46e+03</td>\n",
       "</tr>\n",
       "</table><br/><br/>Notes:<br/>[1] Standard Errors assume that the covariance matrix of the errors is correctly specified.<br/>[2] The condition number is large, 5.46e+03. This might indicate that there are<br/>strong multicollinearity or other numerical problems."
      ],
      "text/plain": [
       "<class 'statsmodels.iolib.summary.Summary'>\n",
       "\"\"\"\n",
       "                            OLS Regression Results                            \n",
       "==============================================================================\n",
       "Dep. Variable:            body_mass_g   R-squared:                       0.761\n",
       "Model:                            OLS   Adj. R-squared:                  0.759\n",
       "Method:                 Least Squares   F-statistic:                     359.7\n",
       "Date:                Fri, 19 Aug 2022   Prob (F-statistic):          8.19e-105\n",
       "Time:                        16:21:02   Log-Likelihood:                -2526.7\n",
       "No. Observations:                 342   AIC:                             5061.\n",
       "Df Residuals:                     338   BIC:                             5077.\n",
       "Df Model:                           3                                         \n",
       "Covariance Type:            nonrobust                                         \n",
       "=====================================================================================\n",
       "                        coef    std err          t      P>|t|      [0.025      0.975]\n",
       "-------------------------------------------------------------------------------------\n",
       "const             -6424.7647    561.469    -11.443      0.000   -7529.179   -5320.351\n",
       "bill_length_mm        4.1618      5.329      0.781      0.435      -6.321      14.644\n",
       "bill_depth_mm        20.0495     13.694      1.464      0.144      -6.887      46.986\n",
       "flipper_length_mm    50.2692      2.477     20.293      0.000      45.397      55.142\n",
       "==============================================================================\n",
       "Omnibus:                        5.263   Durbin-Watson:                   2.016\n",
       "Prob(Omnibus):                  0.072   Jarque-Bera (JB):                5.129\n",
       "Skew:                           0.298   Prob(JB):                       0.0770\n",
       "Kurtosis:                       3.065   Cond. No.                     5.46e+03\n",
       "==============================================================================\n",
       "\n",
       "Notes:\n",
       "[1] Standard Errors assume that the covariance matrix of the errors is correctly specified.\n",
       "[2] The condition number is large, 5.46e+03. This might indicate that there are\n",
       "strong multicollinearity or other numerical problems.\n",
       "\"\"\""
      ]
     },
     "execution_count": 8,
     "metadata": {},
     "output_type": "execute_result"
    }
   ],
   "source": [
    "results_mr.summary()"
   ]
  },
  {
   "cell_type": "markdown",
   "id": "f7e8e254-c9cc-48b8-9d6f-7d409d9c6ca7",
   "metadata": {},
   "source": [
    "#### Output Interpretation \n",
    "\n",
    "Let's look closely at our results. A first **warning bell** comes from the R-squared statistic: it is now $R^2 = 0.76$ and, if you remember from our simple regression exercise, when we modelled the body mass using only the penguin's flipper length, we got an $R^2 = 0.759$. So this means that **adding two more predictors** helped increase the explained variation by only 0.001, which is to say, it **did not help improving the model at all**. \n",
    "\n",
    "Furthermore, if we look at the **p-values of the regression coefficients**, we can clearly see that `bill_length_mm` and `bill_depth_mm` are not statistically significant (as the p-values are greater than the significance threshold $\\alpha = 0.05$). \n",
    "\n",
    "If you remember the \"Assumptions\" section, we said that the predictors should have a linear relationship with the dependent variable, but they should not be strongly correlated with each other. Let's produce a **correlation matrix** to investigate this assumption."
   ]
  },
  {
   "cell_type": "code",
   "execution_count": 9,
   "id": "331528f2-2bb8-4c5b-8054-47756389ba87",
   "metadata": {},
   "outputs": [
    {
     "data": {
      "text/html": [
       "<div>\n",
       "<style scoped>\n",
       "    .dataframe tbody tr th:only-of-type {\n",
       "        vertical-align: middle;\n",
       "    }\n",
       "\n",
       "    .dataframe tbody tr th {\n",
       "        vertical-align: top;\n",
       "    }\n",
       "\n",
       "    .dataframe thead th {\n",
       "        text-align: right;\n",
       "    }\n",
       "</style>\n",
       "<table border=\"1\" class=\"dataframe\">\n",
       "  <thead>\n",
       "    <tr style=\"text-align: right;\">\n",
       "      <th></th>\n",
       "      <th>body_mass_g</th>\n",
       "      <th>bill_length_mm</th>\n",
       "      <th>bill_depth_mm</th>\n",
       "      <th>flipper_length_mm</th>\n",
       "    </tr>\n",
       "  </thead>\n",
       "  <tbody>\n",
       "    <tr>\n",
       "      <th>body_mass_g</th>\n",
       "      <td>1.000000</td>\n",
       "      <td>0.595110</td>\n",
       "      <td>-0.471916</td>\n",
       "      <td>0.871202</td>\n",
       "    </tr>\n",
       "    <tr>\n",
       "      <th>bill_length_mm</th>\n",
       "      <td>0.595110</td>\n",
       "      <td>1.000000</td>\n",
       "      <td>-0.235053</td>\n",
       "      <td>0.656181</td>\n",
       "    </tr>\n",
       "    <tr>\n",
       "      <th>bill_depth_mm</th>\n",
       "      <td>-0.471916</td>\n",
       "      <td>-0.235053</td>\n",
       "      <td>1.000000</td>\n",
       "      <td>-0.583851</td>\n",
       "    </tr>\n",
       "    <tr>\n",
       "      <th>flipper_length_mm</th>\n",
       "      <td>0.871202</td>\n",
       "      <td>0.656181</td>\n",
       "      <td>-0.583851</td>\n",
       "      <td>1.000000</td>\n",
       "    </tr>\n",
       "  </tbody>\n",
       "</table>\n",
       "</div>"
      ],
      "text/plain": [
       "                   body_mass_g  bill_length_mm  bill_depth_mm  \\\n",
       "body_mass_g           1.000000        0.595110      -0.471916   \n",
       "bill_length_mm        0.595110        1.000000      -0.235053   \n",
       "bill_depth_mm        -0.471916       -0.235053       1.000000   \n",
       "flipper_length_mm     0.871202        0.656181      -0.583851   \n",
       "\n",
       "                   flipper_length_mm  \n",
       "body_mass_g                 0.871202  \n",
       "bill_length_mm              0.656181  \n",
       "bill_depth_mm              -0.583851  \n",
       "flipper_length_mm           1.000000  "
      ]
     },
     "execution_count": 9,
     "metadata": {},
     "output_type": "execute_result"
    }
   ],
   "source": [
    "df[['body_mass_g','bill_length_mm','bill_depth_mm','flipper_length_mm']].corr()"
   ]
  },
  {
   "cell_type": "markdown",
   "id": "dddc291d-c4f6-4628-8921-f7df759b7025",
   "metadata": {},
   "source": [
    "We can immediately see that there is a strong correlation between `flipper_length_mm` and `bill_length_mm`, which goes against our initial assumption. When this happens we talk about **[multicollinearity](https://en.wikipedia.org/wiki/Multicollinearity)**, where the coefficient estimates of the multiple regression may change erratically in response to small changes in the model or the data. \n",
    "\n",
    "Multicollinearity does not reduce the predictive power or reliability of the model as a whole, but it may give invalid results about any individual predictor, or about which predictors are redundant with respect to others. \n",
    "\n",
    "In the context of multiple regression, there are various ways to detect multicollinearity, such as the **[Variance Inflation Factor](https://en.wikipedia.org/wiki/Variance_inflation_factor)** (VIF) and the **[Condition Number](https://en.wikipedia.org/wiki/Condition_number)**. We won't go into the details of either, but you should know that the latter is part of the regression's `.summary()` output and you can also find a warning in the \"Notes\" section, cautioning about multicollinearity due to a large value of the Condition Number. "
   ]
  },
  {
   "cell_type": "markdown",
   "id": "be818247-4728-4e83-a8a0-677d7f8d19cf",
   "metadata": {},
   "source": [
    "#### Remarks\n",
    "\n",
    "So, what do we do in such cases? There are different courses of action that can be taken: \n",
    "\n",
    "- our first model with only one predictor was quite good, we could stop there and use it for our predictions; \n",
    "- we can't use the multiple regression model as is, since it suffers from multicollinearity, some options are: \n",
    "    - insert/remove one new predictor at a time and checking if the multicollinearity problem is still present; \n",
    "    - search for new features or create ([engineer](https://en.wikipedia.org/wiki/Feature_engineering)) your own; \n",
    "    - this particular data has still all species grouped at the same level, it could be worth trying to repeat the regression analysis for each single species; \n",
    "- use different models that do not suffer from the multicollinearity problem. "
   ]
  },
  {
   "cell_type": "markdown",
   "id": "eb97909f-ae48-4b23-bbf3-5c7cde3d7db2",
   "metadata": {},
   "source": [
    "#### Adjusted R-squared\n",
    "\n",
    "You may have noticed from the regression summary outputs that next to the R-squared is always reported a similar statistic called **Adjusted R-squared**. This is a variation that takes into consideration **how many independent variables** are present in the model and **penalises the goodness of fit score** as the number of predictors increases. \n",
    "\n",
    "This is an important point, because **R-squared always increases** (artificially) as you add predictors to the model, even if they don't have any logical sense (random noise) or predictive value. Adjusted R-squared attempts to correct for this overestimation by **being penalised if a specific effect does not improve the model.** \n",
    "\n",
    "$$\n",
    "    \\text{Adj. }R^2 = 1 - \\frac{(1-R^2)(n-1)}{n-p-1}\n",
    "$$\n",
    "\n",
    "where: \n",
    "- $R^2$ is the R-squared\n",
    "- $n$ is the number of observations\n",
    "- $p$ is the number of predictors"
   ]
  },
  {
   "cell_type": "markdown",
   "id": "ce9cd5de-ad5a-4f03-bb12-c57d9eab4f6d",
   "metadata": {},
   "source": [
    "### Overfitting\n",
    "\n",
    "A frequent problem that comes up in many machine learning algorithms(including regression analysis), is **overfitting**. As a limit case, if there are p variables in a linear regression with p data points, the fitted line can go exactly through every point. \n",
    "\n",
    "Consider the following trivial example, where we have 10 data points and we fit a **[polynomial regression](https://en.wikipedia.org/wiki/Polynomial_regression)** of 10th degree to the data. This means that the regression equation will be non linear and will have the follwing form: \n",
    "\n",
    "$$\n",
    "    y = b_0 + b_1x + b_2x^2 + b_3x^3 + ... + b_9x^9 + b_{10}x^{10}\n",
    "$$"
   ]
  },
  {
   "cell_type": "code",
   "execution_count": null,
   "id": "f9cebf59-ecbc-4c6f-8280-431295396906",
   "metadata": {
    "jupyter": {
     "source_hidden": true
    },
    "tags": []
   },
   "outputs": [],
   "source": [
    "from sklearn.preprocessing import PolynomialFeatures\n",
    "def poly_reg_plot(n): \n",
    "    x = np.arange(0, n)\n",
    "    y = np.random.randint(1, 150, n)\n",
    "    \n",
    "    if n<= 10: \n",
    "        poly = PolynomialFeatures(degree=n, include_bias=False)\n",
    "    else: \n",
    "        poly = PolynomialFeatures(degree=10, include_bias=False)\n",
    "    poly_features = poly.fit_transform(x.reshape(-1, 1))\n",
    "    \n",
    "    poly_reg_model = LinearRegression()\n",
    "    poly_reg_model.fit(poly_features, y)\n",
    "    y_predicted = poly_reg_model.predict(poly_features)\n",
    "    \n",
    "    plt.figure(figsize=(10, 6))\n",
    "    title = \"Polinomial regression of degree: \" + str(n)\n",
    "    plt.title(title, size=16)\n",
    "    plt.scatter(x, y)\n",
    "    plt.plot(x, y_predicted, \"r--\")\n",
    "    plt.show()"
   ]
  },
  {
   "cell_type": "code",
   "execution_count": 10,
   "id": "a987ffd9-e03b-49c1-bd98-aebb67278dc2",
   "metadata": {
    "tags": []
   },
   "outputs": [
    {
     "ename": "NameError",
     "evalue": "name 'poly_reg_plot' is not defined",
     "output_type": "error",
     "traceback": [
      "\u001b[0;31m---------------------------------------------------------------------------\u001b[0m",
      "\u001b[0;31mNameError\u001b[0m                                 Traceback (most recent call last)",
      "Input \u001b[0;32mIn [10]\u001b[0m, in \u001b[0;36m<cell line: 1>\u001b[0;34m()\u001b[0m\n\u001b[0;32m----> 1\u001b[0m \u001b[43mpoly_reg_plot\u001b[49m(\u001b[38;5;241m10\u001b[39m)\n",
      "\u001b[0;31mNameError\u001b[0m: name 'poly_reg_plot' is not defined"
     ]
    }
   ],
   "source": [
    "poly_reg_plot(10)"
   ]
  },
  {
   "cell_type": "markdown",
   "id": "ef78a22c-ed62-41f6-bacc-5e1dad7a1b1b",
   "metadata": {},
   "source": [
    "More generally, given a large set of independent variables that have no relation to the dependent variable being predicted, some of them will in general be falsely found to be statistically significant and therefore they may be kept in the model. This would cause an overfitting the model.\n",
    "\n",
    "In simple terms, **overfitting** happens when **a model learns the details and the noise of the data** it has been trained on. This means that the noise or random fluctuations in the training data is picked up and learned as concepts by the model. \n",
    "\n",
    "This is a problem because the model will have a great fit to the data (eg: very high R-squared), but it **won't be able to generalise well** its learnings to new data. Therefore when it will be used to make predictions on new data, it's **accuracy will be far worse**.\n",
    "\n",
    "> Imagine you have to take a **physics exam** and you've been given the questions and answers to the last test, so you study it and memorise every single question that appeared in the last exam. Test day arrives and, as it happens, most of the **questions are different** from the previous test; since you've focussed on the details of the previous test, **your knowledge of the subject is not able to generalise** to new questions. You have overfitted your knowledge to the last exam and therefore will score poorly in the new test. "
   ]
  },
  {
   "cell_type": "markdown",
   "id": "523c4209-1f87-420b-a52e-210d42226d74",
   "metadata": {
    "tags": []
   },
   "source": [
    "#### Training and Test Sets\n",
    "\n",
    "When you're creating a model and you want to evaluate its performace, it's good practice to always **[divide your data](https://en.wikipedia.org/wiki/Training,_validation,_and_test_data_sets)** into two sets: \n",
    "- a **training** data set\n",
    "- a **test** data set\n",
    "\n",
    "You will want to keep more data available for the training phase, so a **rule of thumb** is to set apart about **30% of the data for testing** (a.k.a holdout sample). There shouldn't be any major structural differences between training and validation sets, so a **random split** is applied to the whole dataset. \n",
    "\n",
    "<img src=\"img/train-test-set.png\" width=\"700\">\n",
    "\n",
    "The `sklearn` library has a module `model_selection` which contains the `train_test_split()` function (check out the [documentation here](https://scikit-learn.org/stable/modules/generated/sklearn.model_selection.train_test_split.html)), which, as the name suggests, *splits arrays or matrices into random train and test subsets*.\n",
    "\n",
    "> And what about the **[validation set](https://en.wikipedia.org/wiki/Training,_validation,_and_test_data_sets#Validation_data_set)**? Some machine learning models have several parameters (or hyperparameters) that need to be tuned in order to improve the model's performace and accuracy, therefore a validation data set is used to test the tuning of such hyperparameters. An example of an hyperparameter is the number of hidden units in each layer of an artificial neural network. "
   ]
  },
  {
   "cell_type": "markdown",
   "id": "cc40d1b7-af6a-4738-934c-a84deed4f419",
   "metadata": {},
   "source": [
    "### Case Study: WHO Life Expectancy\n",
    "\n",
    "Let's train a multiple linear regression model with this new concept of training and test sets in mind on a new dataset. The data con be found in the `data` folder and comes from this [Kaggle page](https://www.kaggle.com/datasets/kumarajarshi/life-expectancy-who), it includes WHO data on the health status as well as many other related factors for a list of many countries in the world. "
   ]
  },
  {
   "cell_type": "code",
   "execution_count": 11,
   "id": "4f7cdab4-66bf-4936-b929-2863f62a2446",
   "metadata": {},
   "outputs": [
    {
     "data": {
      "text/html": [
       "<div>\n",
       "<style scoped>\n",
       "    .dataframe tbody tr th:only-of-type {\n",
       "        vertical-align: middle;\n",
       "    }\n",
       "\n",
       "    .dataframe tbody tr th {\n",
       "        vertical-align: top;\n",
       "    }\n",
       "\n",
       "    .dataframe thead th {\n",
       "        text-align: right;\n",
       "    }\n",
       "</style>\n",
       "<table border=\"1\" class=\"dataframe\">\n",
       "  <thead>\n",
       "    <tr style=\"text-align: right;\">\n",
       "      <th></th>\n",
       "      <th>Country</th>\n",
       "      <th>Year</th>\n",
       "      <th>Status</th>\n",
       "      <th>Life expectancy</th>\n",
       "      <th>Adult Mortality</th>\n",
       "      <th>infant deaths</th>\n",
       "      <th>Alcohol</th>\n",
       "      <th>percentage expenditure</th>\n",
       "      <th>Hepatitis B</th>\n",
       "      <th>Measles</th>\n",
       "      <th>...</th>\n",
       "      <th>Polio</th>\n",
       "      <th>Total expenditure</th>\n",
       "      <th>Diphtheria</th>\n",
       "      <th>HIV/AIDS</th>\n",
       "      <th>GDP</th>\n",
       "      <th>Population</th>\n",
       "      <th>thinness  1-19 years</th>\n",
       "      <th>thinness 5-9 years</th>\n",
       "      <th>Income composition of resources</th>\n",
       "      <th>Schooling</th>\n",
       "    </tr>\n",
       "  </thead>\n",
       "  <tbody>\n",
       "    <tr>\n",
       "      <th>0</th>\n",
       "      <td>Afghanistan</td>\n",
       "      <td>2015</td>\n",
       "      <td>Developing</td>\n",
       "      <td>65.0</td>\n",
       "      <td>263.0</td>\n",
       "      <td>62</td>\n",
       "      <td>0.01</td>\n",
       "      <td>71.279624</td>\n",
       "      <td>65.0</td>\n",
       "      <td>1154</td>\n",
       "      <td>...</td>\n",
       "      <td>6.0</td>\n",
       "      <td>8.16</td>\n",
       "      <td>65.0</td>\n",
       "      <td>0.1</td>\n",
       "      <td>584.259210</td>\n",
       "      <td>33736494.0</td>\n",
       "      <td>17.2</td>\n",
       "      <td>17.3</td>\n",
       "      <td>0.479</td>\n",
       "      <td>10.1</td>\n",
       "    </tr>\n",
       "    <tr>\n",
       "      <th>1</th>\n",
       "      <td>Afghanistan</td>\n",
       "      <td>2014</td>\n",
       "      <td>Developing</td>\n",
       "      <td>59.9</td>\n",
       "      <td>271.0</td>\n",
       "      <td>64</td>\n",
       "      <td>0.01</td>\n",
       "      <td>73.523582</td>\n",
       "      <td>62.0</td>\n",
       "      <td>492</td>\n",
       "      <td>...</td>\n",
       "      <td>58.0</td>\n",
       "      <td>8.18</td>\n",
       "      <td>62.0</td>\n",
       "      <td>0.1</td>\n",
       "      <td>612.696514</td>\n",
       "      <td>327582.0</td>\n",
       "      <td>17.5</td>\n",
       "      <td>17.5</td>\n",
       "      <td>0.476</td>\n",
       "      <td>10.0</td>\n",
       "    </tr>\n",
       "    <tr>\n",
       "      <th>2</th>\n",
       "      <td>Afghanistan</td>\n",
       "      <td>2013</td>\n",
       "      <td>Developing</td>\n",
       "      <td>59.9</td>\n",
       "      <td>268.0</td>\n",
       "      <td>66</td>\n",
       "      <td>0.01</td>\n",
       "      <td>73.219243</td>\n",
       "      <td>64.0</td>\n",
       "      <td>430</td>\n",
       "      <td>...</td>\n",
       "      <td>62.0</td>\n",
       "      <td>8.13</td>\n",
       "      <td>64.0</td>\n",
       "      <td>0.1</td>\n",
       "      <td>631.744976</td>\n",
       "      <td>31731688.0</td>\n",
       "      <td>17.7</td>\n",
       "      <td>17.7</td>\n",
       "      <td>0.470</td>\n",
       "      <td>9.9</td>\n",
       "    </tr>\n",
       "  </tbody>\n",
       "</table>\n",
       "<p>3 rows × 22 columns</p>\n",
       "</div>"
      ],
      "text/plain": [
       "       Country  Year      Status  Life expectancy   Adult Mortality  \\\n",
       "0  Afghanistan  2015  Developing              65.0            263.0   \n",
       "1  Afghanistan  2014  Developing              59.9            271.0   \n",
       "2  Afghanistan  2013  Developing              59.9            268.0   \n",
       "\n",
       "   infant deaths  Alcohol  percentage expenditure  Hepatitis B  Measles   ...  \\\n",
       "0             62     0.01               71.279624         65.0      1154  ...   \n",
       "1             64     0.01               73.523582         62.0       492  ...   \n",
       "2             66     0.01               73.219243         64.0       430  ...   \n",
       "\n",
       "   Polio  Total expenditure  Diphtheria    HIV/AIDS         GDP  Population  \\\n",
       "0    6.0               8.16         65.0        0.1  584.259210  33736494.0   \n",
       "1   58.0               8.18         62.0        0.1  612.696514    327582.0   \n",
       "2   62.0               8.13         64.0        0.1  631.744976  31731688.0   \n",
       "\n",
       "    thinness  1-19 years   thinness 5-9 years  \\\n",
       "0                   17.2                 17.3   \n",
       "1                   17.5                 17.5   \n",
       "2                   17.7                 17.7   \n",
       "\n",
       "   Income composition of resources  Schooling  \n",
       "0                            0.479       10.1  \n",
       "1                            0.476       10.0  \n",
       "2                            0.470        9.9  \n",
       "\n",
       "[3 rows x 22 columns]"
      ]
     },
     "execution_count": 11,
     "metadata": {},
     "output_type": "execute_result"
    }
   ],
   "source": [
    "df = pd.read_csv('data/who-life-expectancy.csv')\n",
    "df.head(3)"
   ]
  },
  {
   "cell_type": "code",
   "execution_count": 12,
   "id": "53119f1d-6016-4d43-ae54-00b82025a024",
   "metadata": {},
   "outputs": [
    {
     "name": "stdout",
     "output_type": "stream",
     "text": [
      "Number of countries: 193\n"
     ]
    }
   ],
   "source": [
    "print('Number of countries:', len(df.Country.unique()))"
   ]
  },
  {
   "cell_type": "code",
   "execution_count": 13,
   "id": "b47f682c-31c2-4d64-bdcf-a271f850828d",
   "metadata": {},
   "outputs": [
    {
     "data": {
      "text/plain": [
       "array([2015, 2014, 2013, 2012, 2011, 2010, 2009, 2008, 2007, 2006, 2005,\n",
       "       2004, 2003, 2002, 2001, 2000])"
      ]
     },
     "execution_count": 13,
     "metadata": {},
     "output_type": "execute_result"
    }
   ],
   "source": [
    "df.Year.unique()"
   ]
  },
  {
   "cell_type": "markdown",
   "id": "0608bf9d-77c9-426c-a32b-b2c4566b6d83",
   "metadata": {},
   "source": [
    " "
   ]
  },
  {
   "cell_type": "markdown",
   "id": "e2b3a7e2-5bc6-4647-bcef-dd8a9e712c5e",
   "metadata": {},
   "source": [
    "The dataset contains **2,938 observations** relative to **193 countries** across **16 years** (from 2000 to 2015). There are some `nan` values: \n",
    "- we remove the records that have `nan` values for the dependent variable; \n",
    "- we replace with zeros the `nan` values of the predictors. \n",
    "\n",
    "Also, since this is a temporal dataset, we select only the last year of available observations, that is, data relative to the year 2015. "
   ]
  },
  {
   "cell_type": "code",
   "execution_count": 14,
   "id": "614669cb-dbe9-4133-a71f-2221296d61b8",
   "metadata": {},
   "outputs": [],
   "source": [
    "df = df[~pd.isna(df['Life expectancy '])]"
   ]
  },
  {
   "cell_type": "code",
   "execution_count": 15,
   "id": "9953d6f5-0124-4c6e-a521-64c3dcfae6b4",
   "metadata": {},
   "outputs": [],
   "source": [
    "df = df.fillna(0)"
   ]
  },
  {
   "cell_type": "code",
   "execution_count": 16,
   "id": "cb79b02a-299f-43d3-bf99-5306b1d7ce04",
   "metadata": {},
   "outputs": [],
   "source": [
    "# rename columns that have leading and trailing spaces \n",
    "df.columns = ['Country', 'Year', 'Status', 'Life expectancy', 'Adult Mortality',\n",
    "               'Infant Deaths', 'Alcohol', 'Pct Expenditure', 'Hepatitis B',\n",
    "               'Measles', 'BMI', 'Under-five deaths', 'Polio', 'Tot expenditure',\n",
    "               'Diphtheria', 'HIV/AIDS', 'GDP', 'Population',\n",
    "               'Thinness 1-19 years', 'Thinness 5-9 years',\n",
    "               'Income composition of resources', 'Schooling']"
   ]
  },
  {
   "cell_type": "code",
   "execution_count": 17,
   "id": "8934cbbf-481c-4c7b-a6b2-7ec3ee2880f3",
   "metadata": {},
   "outputs": [
    {
     "data": {
      "text/plain": [
       "(183, 22)"
      ]
     },
     "execution_count": 17,
     "metadata": {},
     "output_type": "execute_result"
    }
   ],
   "source": [
    "df15 = df[df.Year==2015]\n",
    "df15.shape"
   ]
  },
  {
   "cell_type": "markdown",
   "id": "ab7acbdc-c0db-4395-8835-da3817530657",
   "metadata": {},
   "source": [
    "After these initial data cleaning steps, we're left with the following `df15` DataFrame, containing 183 observations and 22 variables. \n",
    "> **Objective**: we want to predict the country's `Life expectancy` using other variables in the dataset as predictors."
   ]
  },
  {
   "cell_type": "markdown",
   "id": "c023cbd0-cf2c-4bec-bcd1-3e80e9954259",
   "metadata": {},
   "source": [
    "A good starting point is to **look at the correlation** between the dependent variable $y$ and all potential (numeric) predictors $X$; two good tools at our disposal to help us in this task are: \n",
    "- correlation matrix\n",
    "- graphical analysis via scatterplot"
   ]
  },
  {
   "cell_type": "code",
   "execution_count": 18,
   "id": "ea2fc280-b6da-4d6e-8094-7edbf90c0f9c",
   "metadata": {},
   "outputs": [
    {
     "data": {
      "text/plain": [
       "Life expectancy                    1.000000\n",
       "Income composition of resources    0.627709\n",
       "Schooling                          0.573656\n",
       "BMI                                0.529359\n",
       "Polio                              0.515602\n",
       "Diphtheria                         0.500300\n",
       "GDP                                0.417505\n",
       "Alcohol                            0.174561\n",
       "Hepatitis B                        0.129036\n",
       "Pct Expenditure                    0.043964\n",
       "Tot expenditure                   -0.015303\n",
       "Population                        -0.061011\n",
       "Measles                           -0.074617\n",
       "Infant Deaths                     -0.241290\n",
       "Under-five deaths                 -0.271921\n",
       "Thinness 1-19 years               -0.450324\n",
       "Thinness 5-9 years                -0.450567\n",
       "HIV/AIDS                          -0.608345\n",
       "Adult Mortality                   -0.779119\n",
       "Year                                    NaN\n",
       "Name: Life expectancy, dtype: float64"
      ]
     },
     "execution_count": 18,
     "metadata": {},
     "output_type": "execute_result"
    }
   ],
   "source": [
    "df15.corr()['Life expectancy'].sort_values(ascending=False)"
   ]
  },
  {
   "cell_type": "code",
   "execution_count": 19,
   "id": "a974e883-9b82-4882-a5fb-ded3f017925a",
   "metadata": {},
   "outputs": [
    {
     "data": {
      "image/png": "[encoded data removed]",
      "text/plain": [
       "<Figure size 432x288 with 1 Axes>"
      ]
     },
     "metadata": {},
     "output_type": "display_data"
    }
   ],
   "source": [
    "sns.scatterplot(x='Schooling', y='Life expectancy', data=df15)\n",
    "plt.show()"
   ]
  },
  {
   "cell_type": "markdown",
   "id": "c509fe89-8630-429f-b043-c6e2aa3c13e9",
   "metadata": {},
   "source": [
    "As we said in the previous section, it is good practice to train the model on a subset of the data and to the test it on the rest of the data that the model has never seen before. The `train_test_split()` function from the `sklearn` library allows you to **easily create a train and test split** from your data, you just **need to specify** the $X$ matrix containing the **predictors**, the $y$ vector containing the **target variable** and the **desired proportion** of the test subset. "
   ]
  },
  {
   "cell_type": "markdown",
   "id": "86c37e5b-1016-4758-a6eb-4834c99672c5",
   "metadata": {},
   "source": [
    "First we define the matrix $X$ containing the predictors and the vector $y$ containing the target variable:"
   ]
  },
  {
   "cell_type": "code",
   "execution_count": 20,
   "id": "8f69656b-6254-44a5-9200-64b82d9c3981",
   "metadata": {},
   "outputs": [],
   "source": [
    "y = df15['Life expectancy']\n",
    "X = df15[['Schooling', 'BMI', 'Adult Mortality', 'HIV/AIDS']]\n",
    "X = sm.add_constant(X)"
   ]
  },
  {
   "cell_type": "markdown",
   "id": "31b28b62-d6d8-4341-9921-dc77f05d6945",
   "metadata": {},
   "source": [
    "Then we apply the `train_test_split()` function to the predictors' matrix $X$ and to the responce vector $y$ and we get four objects in return: \n",
    "- **X_train**: random subset of 70% of the predictors' matrix $X$\n",
    "- **X_test**: remaining 30% of the predictors' matrix $X$\n",
    "- **y_train**: random subset of 70% of the response's vector $y$ (same random split as X_train of course)\n",
    "- **y_test**: remaining 30% of the response's vector $y$"
   ]
  },
  {
   "cell_type": "code",
   "execution_count": 21,
   "id": "5484b18b-2e82-46a0-8182-e1d06126f1ba",
   "metadata": {},
   "outputs": [],
   "source": [
    "from sklearn.model_selection import train_test_split\n",
    "X_train, X_test, y_train, y_test = train_test_split(X, y, test_size=0.3, random_state=42)"
   ]
  },
  {
   "cell_type": "markdown",
   "id": "f2a168ee-3021-47d1-ba43-f06da2697807",
   "metadata": {},
   "source": [
    "We now run define an OLS linear regression model and fit it to the training split: "
   ]
  },
  {
   "cell_type": "code",
   "execution_count": 22,
   "id": "60a1e495-2543-4013-9f28-baa7ea13f32e",
   "metadata": {},
   "outputs": [],
   "source": [
    "model = sm.OLS(y_train,X_train)\n",
    "results = model.fit()"
   ]
  },
  {
   "cell_type": "code",
   "execution_count": 23,
   "id": "67b7eff1-9d39-4d17-81c7-70bdc33a3a53",
   "metadata": {},
   "outputs": [
    {
     "data": {
      "text/html": [
       "<table class=\"simpletable\">\n",
       "<caption>OLS Regression Results</caption>\n",
       "<tr>\n",
       "  <th>Dep. Variable:</th>     <td>Life expectancy</td> <th>  R-squared:         </th> <td>   0.739</td>\n",
       "</tr>\n",
       "<tr>\n",
       "  <th>Model:</th>                   <td>OLS</td>       <th>  Adj. R-squared:    </th> <td>   0.731</td>\n",
       "</tr>\n",
       "<tr>\n",
       "  <th>Method:</th>             <td>Least Squares</td>  <th>  F-statistic:       </th> <td>   87.22</td>\n",
       "</tr>\n",
       "<tr>\n",
       "  <th>Date:</th>             <td>Fri, 19 Aug 2022</td> <th>  Prob (F-statistic):</th> <td>5.69e-35</td>\n",
       "</tr>\n",
       "<tr>\n",
       "  <th>Time:</th>                 <td>16:22:53</td>     <th>  Log-Likelihood:    </th> <td> -363.64</td>\n",
       "</tr>\n",
       "<tr>\n",
       "  <th>No. Observations:</th>      <td>   128</td>      <th>  AIC:               </th> <td>   737.3</td>\n",
       "</tr>\n",
       "<tr>\n",
       "  <th>Df Residuals:</th>          <td>   123</td>      <th>  BIC:               </th> <td>   751.5</td>\n",
       "</tr>\n",
       "<tr>\n",
       "  <th>Df Model:</th>              <td>     4</td>      <th>                     </th>     <td> </td>   \n",
       "</tr>\n",
       "<tr>\n",
       "  <th>Covariance Type:</th>      <td>nonrobust</td>    <th>                     </th>     <td> </td>   \n",
       "</tr>\n",
       "</table>\n",
       "<table class=\"simpletable\">\n",
       "<tr>\n",
       "         <td></td>            <th>coef</th>     <th>std err</th>      <th>t</th>      <th>P>|t|</th>  <th>[0.025</th>    <th>0.975]</th>  \n",
       "</tr>\n",
       "<tr>\n",
       "  <th>const</th>           <td>   69.0460</td> <td>    1.815</td> <td>   38.048</td> <td> 0.000</td> <td>   65.454</td> <td>   72.638</td>\n",
       "</tr>\n",
       "<tr>\n",
       "  <th>Schooling</th>       <td>    0.3586</td> <td>    0.107</td> <td>    3.357</td> <td> 0.001</td> <td>    0.147</td> <td>    0.570</td>\n",
       "</tr>\n",
       "<tr>\n",
       "  <th>BMI</th>             <td>    0.1084</td> <td>    0.022</td> <td>    4.860</td> <td> 0.000</td> <td>    0.064</td> <td>    0.153</td>\n",
       "</tr>\n",
       "<tr>\n",
       "  <th>Adult Mortality</th> <td>   -0.0399</td> <td>    0.005</td> <td>   -7.800</td> <td> 0.000</td> <td>   -0.050</td> <td>   -0.030</td>\n",
       "</tr>\n",
       "<tr>\n",
       "  <th>HIV/AIDS</th>        <td>   -1.1186</td> <td>    0.347</td> <td>   -3.220</td> <td> 0.002</td> <td>   -1.806</td> <td>   -0.431</td>\n",
       "</tr>\n",
       "</table>\n",
       "<table class=\"simpletable\">\n",
       "<tr>\n",
       "  <th>Omnibus:</th>       <td> 5.720</td> <th>  Durbin-Watson:     </th> <td>   2.069</td>\n",
       "</tr>\n",
       "<tr>\n",
       "  <th>Prob(Omnibus):</th> <td> 0.057</td> <th>  Jarque-Bera (JB):  </th> <td>   8.141</td>\n",
       "</tr>\n",
       "<tr>\n",
       "  <th>Skew:</th>          <td>-0.144</td> <th>  Prob(JB):          </th> <td>  0.0171</td>\n",
       "</tr>\n",
       "<tr>\n",
       "  <th>Kurtosis:</th>      <td> 4.202</td> <th>  Cond. No.          </th> <td>    889.</td>\n",
       "</tr>\n",
       "</table><br/><br/>Notes:<br/>[1] Standard Errors assume that the covariance matrix of the errors is correctly specified."
      ],
      "text/plain": [
       "<class 'statsmodels.iolib.summary.Summary'>\n",
       "\"\"\"\n",
       "                            OLS Regression Results                            \n",
       "==============================================================================\n",
       "Dep. Variable:        Life expectancy   R-squared:                       0.739\n",
       "Model:                            OLS   Adj. R-squared:                  0.731\n",
       "Method:                 Least Squares   F-statistic:                     87.22\n",
       "Date:                Fri, 19 Aug 2022   Prob (F-statistic):           5.69e-35\n",
       "Time:                        16:22:53   Log-Likelihood:                -363.64\n",
       "No. Observations:                 128   AIC:                             737.3\n",
       "Df Residuals:                     123   BIC:                             751.5\n",
       "Df Model:                           4                                         \n",
       "Covariance Type:            nonrobust                                         \n",
       "===================================================================================\n",
       "                      coef    std err          t      P>|t|      [0.025      0.975]\n",
       "-----------------------------------------------------------------------------------\n",
       "const              69.0460      1.815     38.048      0.000      65.454      72.638\n",
       "Schooling           0.3586      0.107      3.357      0.001       0.147       0.570\n",
       "BMI                 0.1084      0.022      4.860      0.000       0.064       0.153\n",
       "Adult Mortality    -0.0399      0.005     -7.800      0.000      -0.050      -0.030\n",
       "HIV/AIDS           -1.1186      0.347     -3.220      0.002      -1.806      -0.431\n",
       "==============================================================================\n",
       "Omnibus:                        5.720   Durbin-Watson:                   2.069\n",
       "Prob(Omnibus):                  0.057   Jarque-Bera (JB):                8.141\n",
       "Skew:                          -0.144   Prob(JB):                       0.0171\n",
       "Kurtosis:                       4.202   Cond. No.                         889.\n",
       "==============================================================================\n",
       "\n",
       "Notes:\n",
       "[1] Standard Errors assume that the covariance matrix of the errors is correctly specified.\n",
       "\"\"\""
      ]
     },
     "execution_count": 23,
     "metadata": {},
     "output_type": "execute_result"
    }
   ],
   "source": [
    "results.summary()"
   ]
  },
  {
   "cell_type": "markdown",
   "id": "431098eb-b50c-4cc5-bf58-68d9cc28d0c5",
   "metadata": {},
   "source": [
    "#### Performance Metrics\n",
    "\n",
    "When evaluating a model (or comparing it to another one), it's always useful to choose a **performance (or accuracy) metric**. There are various accuracy metrics, depending on the type of model you're working with. One simple and popular metric for regression models is the **Mean Absolute Error (MAE)**, which is the average of the absolute difference between the observed response variable $y$ and the predicted values $\\hat{y}$:\n",
    "\n",
    "$$\n",
    "    MAE = \\frac{1}{n} \\sum_{i=1}^{n} |y - \\hat{y}|\n",
    "$$\n",
    "\n",
    "*Note: check out [this page](https://neptune.ai/blog/performance-metrics-in-machine-learning-complete-guide) to find out about more accuracy metrics for regression (and classification) models.*"
   ]
  },
  {
   "cell_type": "code",
   "execution_count": 24,
   "id": "c09c547b-7abd-465a-967d-af6df3b1ee24",
   "metadata": {},
   "outputs": [],
   "source": [
    "def mae(y, pred): \n",
    "    return round(np.mean(np.abs(y - pred)), 2)"
   ]
  },
  {
   "cell_type": "markdown",
   "id": "e9d3f507-4fee-4df7-809d-8dd86d787c75",
   "metadata": {},
   "source": [
    "Let's use the MAE to assess the accuracy of the training model. It is good practice to have a benchmark model you to compare your model to, for example, the **average of the target variable** $\\overline{y}$ is a good benchamrk, since you don't want your model to perform worse than that. \n",
    "\n",
    "Let's **print out the MAE** of the **naïve benchmark model** (the mean of the target variable) and that of the **training model**:"
   ]
  },
  {
   "cell_type": "code",
   "execution_count": 25,
   "id": "a6ab2ab5-fc33-4fa0-9245-3122ec587f60",
   "metadata": {},
   "outputs": [
    {
     "name": "stdout",
     "output_type": "stream",
     "text": [
      "Naïve Training MAE: 6.71\n",
      "Training MAE: 3.06\n"
     ]
    }
   ],
   "source": [
    "pred_train = results.predict(X_train)\n",
    "\n",
    "print('Naïve Training MAE:', mae(y_train, np.mean(pred_train))) #naive mae\n",
    "print('Training MAE:', mae(y_train, pred_train)) # mae"
   ]
  },
  {
   "cell_type": "code",
   "execution_count": 26,
   "id": "c4112d22-6d75-4ad8-906b-234b2907f820",
   "metadata": {},
   "outputs": [
    {
     "data": {
      "image/png": "[encoded data removed]",
      "text/plain": [
       "<Figure size 432x288 with 1 Axes>"
      ]
     },
     "metadata": {},
     "output_type": "display_data"
    }
   ],
   "source": [
    "sns.histplot(y_train - pred_train).set_title(\"Distribution of errors (train)\", size=16)\n",
    "plt.show()"
   ]
  },
  {
   "cell_type": "code",
   "execution_count": 27,
   "id": "fddb6950-3eb3-479f-b3cb-e14511d60f0b",
   "metadata": {},
   "outputs": [
    {
     "data": {
      "image/png": "[encoded data removed]",
      "text/plain": [
       "<Figure size 432x288 with 1 Axes>"
      ]
     },
     "metadata": {},
     "output_type": "display_data"
    }
   ],
   "source": [
    "sns.histplot(np.abs(y_train - pred_train)).set_title(\"Distribution of absolute errors (train)\", size=16)\n",
    "plt.show()"
   ]
  },
  {
   "cell_type": "markdown",
   "id": "f4f35fd3-0ad9-43e9-a88c-2128e8ddc841",
   "metadata": {},
   "source": [
    "So, up until now, **we have trained a regression model** on the training dataset, the next step is to **test its accuracy** on the test dataset. To do this, we use the predictors from the test set `X_test` to **make predictions with the model we just trained**, which we will then compare to the observed responses contained in `y_test`. \n",
    "\n",
    "Finally, we can **print out the MAE** of the **naïve benchmark model** (the mean of the target variable) and that of the **testing model**:"
   ]
  },
  {
   "cell_type": "code",
   "execution_count": 29,
   "id": "a5647ff2-8b99-4c94-82c3-9776aa81498a",
   "metadata": {},
   "outputs": [
    {
     "name": "stdout",
     "output_type": "stream",
     "text": [
      "Naïve Testing MAE: 6.93\n",
      "Testing MAE: 3.36\n"
     ]
    }
   ],
   "source": [
    "pred_test = results.predict(X_test)\n",
    "\n",
    "print('Naïve Testing MAE:', mae(y_test, np.mean(pred_test))) #naive mae\n",
    "print('Testing MAE:', mae(y_test, pred_test)) # mae"
   ]
  },
  {
   "cell_type": "code",
   "execution_count": 30,
   "id": "225ca4f9-336e-4b4b-899b-d6c1cc4713f4",
   "metadata": {},
   "outputs": [
    {
     "data": {
      "image/png": "[encoded data removed]",
      "text/plain": [
       "<Figure size 432x288 with 1 Axes>"
      ]
     },
     "metadata": {},
     "output_type": "display_data"
    }
   ],
   "source": [
    "sns.histplot(y_test - pred_test).set_title(\"Distribution of errors (test)\", size=16)\n",
    "plt.show()"
   ]
  },
  {
   "cell_type": "code",
   "execution_count": 31,
   "id": "e93b6f80-d013-415e-a123-06729b764a35",
   "metadata": {},
   "outputs": [
    {
     "data": {
      "image/png": "[encoded data removed]",
      "text/plain": [
       "<Figure size 432x288 with 1 Axes>"
      ]
     },
     "metadata": {},
     "output_type": "display_data"
    }
   ],
   "source": [
    "sns.histplot(np.abs(y_test - pred_test)).set_title(\"Distribution of absolute errors (test)\", size=16)\n",
    "plt.show()"
   ]
  },
  {
   "cell_type": "markdown",
   "id": "967266ca-f108-4fec-9eb5-4410f16a1900",
   "metadata": {},
   "source": [
    "**Comparing the training and testing MAE results**, we can conclude that the model doesn't overfit the data, in fact the Mean Absolute Errors between the two models are quite similar. **In case of overfitting**, we would have observed a larger and evident discrepancy between training and testing performance, with **larger errors** specifically on the testing predictions. "
   ]
  },
  {
   "cell_type": "code",
   "execution_count": null,
   "id": "f8d8ea56-398f-40ab-a73d-a13f77d9fac3",
   "metadata": {},
   "outputs": [],
   "source": []
  }
 ],
 "metadata": {
  "kernelspec": {
   "display_name": "Python 3 (ipykernel)",
   "language": "python",
   "name": "python3"
  },
  "language_info": {
   "codemirror_mode": {
    "name": "ipython",
    "version": 3
   },
   "file_extension": ".py",
   "mimetype": "text/x-python",
   "name": "python",
   "nbconvert_exporter": "python",
   "pygments_lexer": "ipython3",
   "version": "3.9.12"
  }
 },
 "nbformat": 4,
 "nbformat_minor": 5
}
