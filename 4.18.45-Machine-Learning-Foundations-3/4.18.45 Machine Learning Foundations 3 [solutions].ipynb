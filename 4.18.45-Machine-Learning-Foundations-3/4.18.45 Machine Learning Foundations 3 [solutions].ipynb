{
 "cells": [
  {
   "cell_type": "markdown",
   "id": "5834849c-0c35-454a-b985-4aea5f3351a2",
   "metadata": {},
   "source": [
    "# 4.18.45 Machine Learning Foundations 3"
   ]
  },
  {
   "cell_type": "markdown",
   "id": "223f7c77-527e-48fb-9cf3-abb6d618575b",
   "metadata": {},
   "source": [
    "Businesses are often faced with a problem that requires the **automation of a decision**: \n",
    "- is a transaction fraudulent? \n",
    "- is a customer going to churn? \n",
    "- is a user likely to click on a search ad? \n",
    "\n",
    "These are all **classification problems**, where the goal is to **predict whether a record is a 0 or a 1** (fraud/not-fraud, churn/no-churn, click/no-click) or, in some cases, to **predict one of several categories** (for instance, guessing the correct species of a new iris flower by looking at its petal and sepal measurements). \n",
    "\n",
    "### Logistic Regression\n",
    "\n",
    "In the last class, we saw how the relationship between a numeric target variable and some numeric predictors can be modelled using the method of least squares to estimate the parameters of a regression line. \n",
    "\n",
    "As we just anticipated, sometimes, instead of numeric, you'll want to **predict a binary target** variable (ie: a o or a 1), in those cases **Logistic Regression** is the right tool for the task. It is analogous to multiple linear regression, except for the fact (as we just said) that the outcome is binary.\n",
    "\n",
    "So, if the **target variable is binary**, how can we **create a linear model** that, given some independent variables, can predict the correct outcome? \n",
    "\n",
    "> Let's pretend we don't know about Logistic Regression, could we fit a linear regression model? Let's try this with a simple, synthetic dataset."
   ]
  },
  {
   "cell_type": "code",
   "execution_count": 2,
   "id": "853a96f6-648f-4fec-9b7d-645ffa055064",
   "metadata": {},
   "outputs": [],
   "source": [
    "import numpy as np\n",
    "import pandas as pd\n",
    "\n",
    "from matplotlib import pyplot as plt \n",
    "import seaborn as sns\n",
    "sns.set_theme()\n",
    "sns.set(rc={'figure.figsize':(9, 5)})\n",
    "\n",
    "from sklearn.linear_model import LinearRegression"
   ]
  },
  {
   "cell_type": "code",
   "execution_count": 3,
   "id": "efc70dd4-67e0-493d-b354-4edc9e90c0c0",
   "metadata": {},
   "outputs": [
    {
     "data": {
      "text/plain": [
       "array([[220,   1],\n",
       "       [209,   0],\n",
       "       [224,   1],\n",
       "       [213,   0],\n",
       "       [223,   1],\n",
       "       [215,   0],\n",
       "       [221,   1],\n",
       "       [212,   0],\n",
       "       [218,   1],\n",
       "       [214,   0]])"
      ]
     },
     "execution_count": 3,
     "metadata": {},
     "output_type": "execute_result"
    }
   ],
   "source": [
    "# create dataset\n",
    "x = np.array([220, 209, 224, 213, 223, 215 , 221, 212, 218, 214])\n",
    "y = np.array([1, 0, 1, 0, 1, 0, 1, 0, 1, 0])\n",
    "# show data \n",
    "np.column_stack((x, y))"
   ]
  },
  {
   "cell_type": "code",
   "execution_count": 4,
   "id": "eee32bae-d116-4270-b03a-a0d9cb7c207e",
   "metadata": {},
   "outputs": [
    {
     "data": {
      "image/png": "[encoded data removed]",
      "text/plain": [
       "<Figure size 648x360 with 1 Axes>"
      ]
     },
     "metadata": {},
     "output_type": "display_data"
    }
   ],
   "source": [
    "# scatterplot of data\n",
    "gr = sns.scatterplot(x=x, y=y, s=70)\n",
    "gr.set_ylabel('y')\n",
    "gr.set_xlabel('x')\n",
    "\n",
    "# fit linear regression model\n",
    "lin_reg = LinearRegression().fit(x.reshape(-1,1), y)\n",
    "lin_reg.intercept_, lin_reg.coef_[0]\n",
    "\n",
    "# plot regression line\n",
    "axes = plt.gca()\n",
    "x_vals = np.array(axes.get_xlim())\n",
    "y_vals = lin_reg.intercept_+lin_reg.coef_[0]*x_vals\n",
    "#plt.plot(x_vals, y_vals, 'r--')\n",
    "\n",
    "# draw threshold at y = 0.5 \n",
    "#plt.axhline(0.5, color='xkcd:grey', linestyle='-')\n",
    "#plt.axvline((0.5 - lin_reg.intercept_)/lin_reg.coef_[0], color='xkcd:grey', linestyle='-')\n",
    "#axes.add_patch(matplotlib.patches.Rectangle(((0.5 - lin_reg.intercept_)/lin_reg.coef_[0], 0.5), 100, 10, color ='teal', alpha=0.2))\n",
    "#axes.add_patch(matplotlib.patches.Rectangle(((0.5 - lin_reg.intercept_)/lin_reg.coef_[0], 0.5), -100, -10, color ='orange', alpha=0.2))\n",
    "\n",
    "axes.set_ylim([-0.1, 1.1])\n",
    "plt.show()"
   ]
  },
  {
   "cell_type": "markdown",
   "id": "739402a6-97d5-4264-bd42-cae7dd703ebb",
   "metadata": {},
   "source": [
    "Technically, it's possible to fit a regression model to a binary target variable however, in most real case scenarios, it is not recommended, since the accuracy of the model would be affected negatively. Furthermore, a linear regression model may output values much larger than 1 or much smaller than 0, which would be kind of strange since our response variable can only take values of either 1 or 0. \n",
    "\n",
    "A better solution would be to use a function that can map any value on the x-axis to a range between 0 and 1; luckily for us, the **logistic Function** does just that. "
   ]
  },
  {
   "cell_type": "markdown",
   "id": "05adefb7-9f5e-40ee-9649-49f0fc1c7edf",
   "metadata": {},
   "source": [
    "#### Logistic Function\n",
    "\n",
    "The **logistic function**, known also as the **sigmoid** function, is an s-shaped function that has the following mathematical form: \n",
    "\n",
    "$$\n",
    "    f(x) = \\frac{1}{1+e^{-x}}\n",
    "$$\n",
    "\n",
    "If we plot this function on a Cartesian plane, we obtain the characteristic s-shaped logistic function:"
   ]
  },
  {
   "cell_type": "code",
   "execution_count": 5,
   "id": "6c61ae6c-6731-4a61-ae51-db0883c722ed",
   "metadata": {},
   "outputs": [
    {
     "data": {
      "image/png": "[encoded data removed]",
      "text/plain": [
       "<Figure size 648x360 with 1 Axes>"
      ]
     },
     "metadata": {},
     "output_type": "display_data"
    }
   ],
   "source": [
    "x_vals = np.linspace(-10, 10, 100)\n",
    "y_vals = 1 / (1 + np.exp(-x_vals))\n",
    "gr = sns.lineplot(x=x_vals, y=y_vals)\n",
    "gr.set_ylabel('f (x)')\n",
    "gr.set_xlabel('x')\n",
    "plt.show()"
   ]
  },
  {
   "cell_type": "markdown",
   "id": "b948e4bd-2afc-41bd-ab9e-72f7cdb93c03",
   "metadata": {},
   "source": [
    "So, as you can see from the graph, the Logistic function $f(x)$ has the **following properties**: \n",
    "- $f(x) \\to 0 \\quad$ for $ \\quad x \\to -\\infty$\n",
    "- $f(x) \\to 1 \\quad$ for $ \\quad x \\to +\\infty$\n",
    "- $f(x) > 0.5 \\quad$ when $\\quad x>0$"
   ]
  },
  {
   "cell_type": "markdown",
   "id": "43559d15-a44a-4b19-8bb7-5aa8dec64625",
   "metadata": {},
   "source": [
    "It follows that, if we map the values of $x$ with a logistic function, we can **propose a rule** that classifies a record to a 1 or a 0 **according to a threshold**, for instance: \n",
    "- $y = 1 \\longleftarrow f(x) \\geq 0.5 \\iff x\\geq0$\n",
    "- $y = 0 \\longleftarrow f(x) < 0.5 \\iff x<0$"
   ]
  },
  {
   "cell_type": "markdown",
   "id": "4db19ed9-9fda-462f-ab32-f8cb6dd7019e",
   "metadata": {},
   "source": [
    "#### Logistic Model\n",
    "\n",
    "Now, when we defined the regression model in the previous class, we used the following **generalised linear form**: \n",
    "\n",
    "$$\n",
    "    y = b^TX\n",
    "$$\n",
    "\n",
    "The idea is to feed our model to the logistic function $f(x)$, so that, instead of the linear model above, we get the following **non-linear logistic model**: \n",
    "\n",
    "$$\n",
    "    y = f(b^TX)\n",
    "$$\n",
    "\n",
    "where, since $f(x) = \\frac{1}{1+e^{-x}}$, it follows that:\n",
    "\n",
    "$$\n",
    "    y =  \\frac{1}{1+e^{-b^TX}}\n",
    "$$\n"
   ]
  },
  {
   "cell_type": "markdown",
   "id": "6209b229-8aa8-40de-a716-230e4cb7042c",
   "metadata": {},
   "source": [
    "Let's consider a **simple case** where we have two regressors $x_1$ and $x_2$, in this case we'll have: \n",
    "\n",
    "$$\n",
    "    b^TX = b_0 + b_1x_1 + b_2x_2\n",
    "$$\n",
    "\n",
    "Therefore, it follows from our **previous threshold rule** that: \n",
    "\n",
    "$$\n",
    "    \\begin{align*}\n",
    "    y = 1 &\\longleftarrow f(b^TX) \\geq 0.5 \\iff b_0 + b_1x_1 + b_2x_2 \\geq 0 \\\\\n",
    "    y = 0 &\\longleftarrow f(b^TX) < 0.5 \\iff b_0 + b_1x_1 + b_2x_2 < 0\n",
    "    \\end{align*}\n",
    "$$"
   ]
  },
  {
   "cell_type": "markdown",
   "id": "62a1c5b4-f3fd-4e2b-907b-a5215bd21b3b",
   "metadata": {},
   "source": [
    "#### Decision Boundary\n",
    "\n",
    "Given the following synthetic dataset, assume we've estimated the coefficients $b_0=-4.8$, $b_1=1$ and $b_2=1$ such that the following line is drawn to separate the orange dots $(Y=1)$ from the blue $(Y=0)$. Such a line is known as the **decision boundary** of the model and it follows directly from what we just saw in the previous section. In fact, let's say we estimated the set of coefficients $b$, we could then rewrite the above inequalities as follows: \n",
    "\n",
    "$$\n",
    "    \\begin{align*}\n",
    "    y = 1 &\\iff -4.8 + x_1 + x_2 \\geq 0 \\\\\n",
    "    y = 0 &\\iff -4.8 + x_1 + x_2 < 0\n",
    "    \\end{align*}\n",
    "$$"
   ]
  },
  {
   "cell_type": "code",
   "execution_count": 6,
   "id": "8dd16dfc-901a-4046-8f24-6e634a524a43",
   "metadata": {},
   "outputs": [
    {
     "data": {
      "image/png": "[encoded data removed]",
      "text/plain": [
       "<Figure size 648x360 with 1 Axes>"
      ]
     },
     "metadata": {},
     "output_type": "display_data"
    }
   ],
   "source": [
    "data = pd.DataFrame({'y': [0,0,0,0,0,1,1,1,1,1], \n",
    "                     'x1': [.5, .9, 1.3, .6, 1.8, 1.4, 1.7, 1.6, 2.7, 2.1], \n",
    "                     'x2': [1.9, 1.3, 2.3, 2.9, 1.5, 4.5, 4.3, 5.2, 3.1, 4.7]})\n",
    "sns.scatterplot(x='x1', y='x2', hue='y', data=data, s = 90)\n",
    "\n",
    "axes = plt.gca()\n",
    "x1_vals = np.array(axes.get_xlim())\n",
    "x2_vals = 4.8 - x1_vals\n",
    "#plt.plot(x1_vals, x2_vals, 'r--')\n",
    "\n",
    "#axes.fill_between(x1_vals, x2_vals, np.max(data.x2)+.5, color = 'orange', alpha=0.2)\n",
    "#axes.fill_between(x1_vals, x2_vals, color = 'lightblue', alpha=0.35)\n",
    "\n",
    "plt.show()"
   ]
  },
  {
   "cell_type": "markdown",
   "id": "fe1688e8-ccc8-401d-a39b-a1525e106475",
   "metadata": {},
   "source": [
    "We won't go into the technical details of how to estimate the parameters of a logistic regression, but you can [find a detailed explatation here](https://machinelearningmastery.com/logistic-regression-with-maximum-likelihood-estimation/). "
   ]
  },
  {
   "cell_type": "markdown",
   "id": "10371225-ff2f-4303-9f3e-a6bfb149083f",
   "metadata": {},
   "source": [
    "### Case Study: Income predictions"
   ]
  },
  {
   "cell_type": "markdown",
   "id": "8e9b6f71-7827-4843-8536-5122a5150398",
   "metadata": {},
   "source": [
    "We will use the `penguins` dataset from the `seaborn` package to predict the `sex` of the penguin based on some other features present in the data. "
   ]
  },
  {
   "cell_type": "code",
   "execution_count": 7,
   "id": "fbdd352d-9b27-4357-a014-c3e3fea673bd",
   "metadata": {},
   "outputs": [],
   "source": [
    "from sklearn.linear_model import LogisticRegression\n",
    "from sklearn.model_selection import train_test_split\n",
    "from sklearn import metrics"
   ]
  },
  {
   "cell_type": "code",
   "execution_count": 8,
   "id": "dcc0edbb-e88e-4d5d-a00e-c16fad624b5f",
   "metadata": {},
   "outputs": [
    {
     "data": {
      "text/html": [
       "<div>\n",
       "<style scoped>\n",
       "    .dataframe tbody tr th:only-of-type {\n",
       "        vertical-align: middle;\n",
       "    }\n",
       "\n",
       "    .dataframe tbody tr th {\n",
       "        vertical-align: top;\n",
       "    }\n",
       "\n",
       "    .dataframe thead th {\n",
       "        text-align: right;\n",
       "    }\n",
       "</style>\n",
       "<table border=\"1\" class=\"dataframe\">\n",
       "  <thead>\n",
       "    <tr style=\"text-align: right;\">\n",
       "      <th></th>\n",
       "      <th>species</th>\n",
       "      <th>island</th>\n",
       "      <th>bill_length_mm</th>\n",
       "      <th>bill_depth_mm</th>\n",
       "      <th>flipper_length_mm</th>\n",
       "      <th>body_mass_g</th>\n",
       "      <th>sex</th>\n",
       "      <th>target</th>\n",
       "    </tr>\n",
       "  </thead>\n",
       "  <tbody>\n",
       "    <tr>\n",
       "      <th>0</th>\n",
       "      <td>Adelie</td>\n",
       "      <td>Torgersen</td>\n",
       "      <td>39.1</td>\n",
       "      <td>18.7</td>\n",
       "      <td>181.0</td>\n",
       "      <td>3750.0</td>\n",
       "      <td>Male</td>\n",
       "      <td>1</td>\n",
       "    </tr>\n",
       "    <tr>\n",
       "      <th>1</th>\n",
       "      <td>Adelie</td>\n",
       "      <td>Torgersen</td>\n",
       "      <td>39.5</td>\n",
       "      <td>17.4</td>\n",
       "      <td>186.0</td>\n",
       "      <td>3800.0</td>\n",
       "      <td>Female</td>\n",
       "      <td>0</td>\n",
       "    </tr>\n",
       "    <tr>\n",
       "      <th>2</th>\n",
       "      <td>Adelie</td>\n",
       "      <td>Torgersen</td>\n",
       "      <td>40.3</td>\n",
       "      <td>18.0</td>\n",
       "      <td>195.0</td>\n",
       "      <td>3250.0</td>\n",
       "      <td>Female</td>\n",
       "      <td>0</td>\n",
       "    </tr>\n",
       "    <tr>\n",
       "      <th>4</th>\n",
       "      <td>Adelie</td>\n",
       "      <td>Torgersen</td>\n",
       "      <td>36.7</td>\n",
       "      <td>19.3</td>\n",
       "      <td>193.0</td>\n",
       "      <td>3450.0</td>\n",
       "      <td>Female</td>\n",
       "      <td>0</td>\n",
       "    </tr>\n",
       "    <tr>\n",
       "      <th>5</th>\n",
       "      <td>Adelie</td>\n",
       "      <td>Torgersen</td>\n",
       "      <td>39.3</td>\n",
       "      <td>20.6</td>\n",
       "      <td>190.0</td>\n",
       "      <td>3650.0</td>\n",
       "      <td>Male</td>\n",
       "      <td>1</td>\n",
       "    </tr>\n",
       "  </tbody>\n",
       "</table>\n",
       "</div>"
      ],
      "text/plain": [
       "  species     island  bill_length_mm  bill_depth_mm  flipper_length_mm  \\\n",
       "0  Adelie  Torgersen            39.1           18.7              181.0   \n",
       "1  Adelie  Torgersen            39.5           17.4              186.0   \n",
       "2  Adelie  Torgersen            40.3           18.0              195.0   \n",
       "4  Adelie  Torgersen            36.7           19.3              193.0   \n",
       "5  Adelie  Torgersen            39.3           20.6              190.0   \n",
       "\n",
       "   body_mass_g     sex  target  \n",
       "0       3750.0    Male       1  \n",
       "1       3800.0  Female       0  \n",
       "2       3250.0  Female       0  \n",
       "4       3450.0  Female       0  \n",
       "5       3650.0    Male       1  "
      ]
     },
     "execution_count": 8,
     "metadata": {},
     "output_type": "execute_result"
    }
   ],
   "source": [
    "df = sns.load_dataset('penguins')\n",
    "df = df[~pd.isna(df.flipper_length_mm)]\n",
    "df['target'] = [1 if el == 'Male' else 0 for el in df['sex']]\n",
    "df.head()"
   ]
  },
  {
   "cell_type": "markdown",
   "id": "f7e4f8b0-78c8-4278-8833-010809e21220",
   "metadata": {},
   "source": [
    "#### Exploratory Data Analysis\n",
    "\n",
    "As usual, let's do some preliminary data analysis, in particular let's see how the different metrics are distributed according to the species of the animal as well as the target variable (here transformed to a binary indicator where Male = 1):"
   ]
  },
  {
   "cell_type": "code",
   "execution_count": 9,
   "id": "576fcfd5-cc27-46bd-bfad-ea6407b78bde",
   "metadata": {},
   "outputs": [
    {
     "data": {
      "image/png": "[encoded data removed]",
      "text/plain": [
       "<Figure size 648x360 with 1 Axes>"
      ]
     },
     "metadata": {},
     "output_type": "display_data"
    },
    {
     "data": {
      "image/png": "[encoded data removed]",
      "text/plain": [
       "<Figure size 648x360 with 1 Axes>"
      ]
     },
     "metadata": {},
     "output_type": "display_data"
    },
    {
     "data": {
      "image/png": "[encoded data removed]",
      "text/plain": [
       "<Figure size 648x360 with 1 Axes>"
      ]
     },
     "metadata": {},
     "output_type": "display_data"
    },
    {
     "data": {
      "image/png": "[encoded data removed]",
      "text/plain": [
       "<Figure size 648x360 with 1 Axes>"
      ]
     },
     "metadata": {},
     "output_type": "display_data"
    }
   ],
   "source": [
    "for feature in ['bill_length_mm','bill_depth_mm','flipper_length_mm','body_mass_g']: \n",
    "    sns.boxplot(x=feature, y='species', hue='target', data = df)\n",
    "    plt.show()"
   ]
  },
  {
   "cell_type": "markdown",
   "id": "728b437b-f795-4d4b-abea-dae9367cb5dd",
   "metadata": {},
   "source": [
    "#### Dummy Variables\n",
    "\n",
    "Since `species` is a **categorical variable**, we convert this variable in $k-1$ **[dummy variables](https://en.wikipedia.org/wiki/Dummy_variable_(statistics))**, where $k$ is the number of categories present in the variable. Why $k-1$ and not $k$? In short, because of multicollinearity... [find out more here](https://www.learndatasci.com/glossary/dummy-variable-trap/). "
   ]
  },
  {
   "cell_type": "code",
   "execution_count": 10,
   "id": "51dd0e6a-94e4-4606-ba82-0c1822146feb",
   "metadata": {},
   "outputs": [
    {
     "data": {
      "text/html": [
       "<div>\n",
       "<style scoped>\n",
       "    .dataframe tbody tr th:only-of-type {\n",
       "        vertical-align: middle;\n",
       "    }\n",
       "\n",
       "    .dataframe tbody tr th {\n",
       "        vertical-align: top;\n",
       "    }\n",
       "\n",
       "    .dataframe thead th {\n",
       "        text-align: right;\n",
       "    }\n",
       "</style>\n",
       "<table border=\"1\" class=\"dataframe\">\n",
       "  <thead>\n",
       "    <tr style=\"text-align: right;\">\n",
       "      <th></th>\n",
       "      <th>bill_length_mm</th>\n",
       "      <th>bill_depth_mm</th>\n",
       "      <th>flipper_length_mm</th>\n",
       "      <th>body_mass_g</th>\n",
       "      <th>target</th>\n",
       "      <th>species_Adelie</th>\n",
       "      <th>species_Chinstrap</th>\n",
       "      <th>species_Gentoo</th>\n",
       "    </tr>\n",
       "  </thead>\n",
       "  <tbody>\n",
       "    <tr>\n",
       "      <th>0</th>\n",
       "      <td>39.1</td>\n",
       "      <td>18.7</td>\n",
       "      <td>181.0</td>\n",
       "      <td>3750.0</td>\n",
       "      <td>1</td>\n",
       "      <td>1</td>\n",
       "      <td>0</td>\n",
       "      <td>0</td>\n",
       "    </tr>\n",
       "    <tr>\n",
       "      <th>1</th>\n",
       "      <td>39.5</td>\n",
       "      <td>17.4</td>\n",
       "      <td>186.0</td>\n",
       "      <td>3800.0</td>\n",
       "      <td>0</td>\n",
       "      <td>1</td>\n",
       "      <td>0</td>\n",
       "      <td>0</td>\n",
       "    </tr>\n",
       "    <tr>\n",
       "      <th>2</th>\n",
       "      <td>40.3</td>\n",
       "      <td>18.0</td>\n",
       "      <td>195.0</td>\n",
       "      <td>3250.0</td>\n",
       "      <td>0</td>\n",
       "      <td>1</td>\n",
       "      <td>0</td>\n",
       "      <td>0</td>\n",
       "    </tr>\n",
       "    <tr>\n",
       "      <th>4</th>\n",
       "      <td>36.7</td>\n",
       "      <td>19.3</td>\n",
       "      <td>193.0</td>\n",
       "      <td>3450.0</td>\n",
       "      <td>0</td>\n",
       "      <td>1</td>\n",
       "      <td>0</td>\n",
       "      <td>0</td>\n",
       "    </tr>\n",
       "    <tr>\n",
       "      <th>5</th>\n",
       "      <td>39.3</td>\n",
       "      <td>20.6</td>\n",
       "      <td>190.0</td>\n",
       "      <td>3650.0</td>\n",
       "      <td>1</td>\n",
       "      <td>1</td>\n",
       "      <td>0</td>\n",
       "      <td>0</td>\n",
       "    </tr>\n",
       "  </tbody>\n",
       "</table>\n",
       "</div>"
      ],
      "text/plain": [
       "   bill_length_mm  bill_depth_mm  flipper_length_mm  body_mass_g  target  \\\n",
       "0            39.1           18.7              181.0       3750.0       1   \n",
       "1            39.5           17.4              186.0       3800.0       0   \n",
       "2            40.3           18.0              195.0       3250.0       0   \n",
       "4            36.7           19.3              193.0       3450.0       0   \n",
       "5            39.3           20.6              190.0       3650.0       1   \n",
       "\n",
       "   species_Adelie  species_Chinstrap  species_Gentoo  \n",
       "0               1                  0               0  \n",
       "1               1                  0               0  \n",
       "2               1                  0               0  \n",
       "4               1                  0               0  \n",
       "5               1                  0               0  "
      ]
     },
     "execution_count": 10,
     "metadata": {},
     "output_type": "execute_result"
    }
   ],
   "source": [
    "df2 = pd.get_dummies(df, columns=[\"species\"])\n",
    "df2 = df2[['bill_length_mm', 'bill_depth_mm', 'flipper_length_mm','body_mass_g','target',\n",
    "           'species_Adelie','species_Chinstrap','species_Gentoo']]\n",
    "df2.head()"
   ]
  },
  {
   "cell_type": "markdown",
   "id": "3687eed2-de81-4ffd-866c-6b0fece8a59d",
   "metadata": {},
   "source": [
    "#### Your Turn\n",
    "\n",
    "You will now have the task to define and fit a Logistic regression model to the data. Follow the guidelines below:\n",
    "\n",
    "1. look at the predictors that are available and decide which you want to include in the model; \n",
    "2. remember to check for the possibility of multicollinearity between the regressors (*hint: `.corr()` is your friend*);\n",
    "3. once you're happy with your data, create a predictors matrix $X$ and a responce vector $y$ \n",
    "4. remember to split the data between training and test sets\n",
    "5. research the [documentation](https://scikit-learn.org/stable/modules/generated/sklearn.linear_model.LogisticRegression.html) regarding the Logistic regression page of the `sklearn` library and fit a Logistic regression model to the training data; \n",
    "6. Print out the regressioin coefficients; \n",
    "7. Use the model you just trained to on the test set (`X_test`) to produce a vector of predictions `y_pred`; \n",
    "8. compute the model accuracy as \"average number of correct predictions\" (that is, how many times `y_pred` is `==` to `y_test` divided by total observations in test)."
   ]
  },
  {
   "cell_type": "markdown",
   "id": "512ed26c-3241-4058-aac4-2dfeff224c51",
   "metadata": {},
   "source": [
    "#### Multicollinearity\n",
    "\n",
    "**Multicollinearity** among the predictors is still an issue in Logistic regression, therefore we do a preliminary check on the variables, especially on the numeric ones and find that `flipper_length_mm` and `body_mass_g` are **highly correlated**, so it would be best to choose either one or the other. We stick with `body_mass_g` since it appears to be less correlated with the other features. "
   ]
  },
  {
   "cell_type": "code",
   "execution_count": 11,
   "id": "b041f96e-0024-493e-947c-99b0d1214ae1",
   "metadata": {},
   "outputs": [
    {
     "data": {
      "text/html": [
       "<div>\n",
       "<style scoped>\n",
       "    .dataframe tbody tr th:only-of-type {\n",
       "        vertical-align: middle;\n",
       "    }\n",
       "\n",
       "    .dataframe tbody tr th {\n",
       "        vertical-align: top;\n",
       "    }\n",
       "\n",
       "    .dataframe thead th {\n",
       "        text-align: right;\n",
       "    }\n",
       "</style>\n",
       "<table border=\"1\" class=\"dataframe\">\n",
       "  <thead>\n",
       "    <tr style=\"text-align: right;\">\n",
       "      <th></th>\n",
       "      <th>bill_length_mm</th>\n",
       "      <th>bill_depth_mm</th>\n",
       "      <th>flipper_length_mm</th>\n",
       "      <th>body_mass_g</th>\n",
       "    </tr>\n",
       "  </thead>\n",
       "  <tbody>\n",
       "    <tr>\n",
       "      <th>bill_length_mm</th>\n",
       "      <td>1.000000</td>\n",
       "      <td>-0.235053</td>\n",
       "      <td>0.656181</td>\n",
       "      <td>0.595110</td>\n",
       "    </tr>\n",
       "    <tr>\n",
       "      <th>bill_depth_mm</th>\n",
       "      <td>-0.235053</td>\n",
       "      <td>1.000000</td>\n",
       "      <td>-0.583851</td>\n",
       "      <td>-0.471916</td>\n",
       "    </tr>\n",
       "    <tr>\n",
       "      <th>flipper_length_mm</th>\n",
       "      <td>0.656181</td>\n",
       "      <td>-0.583851</td>\n",
       "      <td>1.000000</td>\n",
       "      <td>0.871202</td>\n",
       "    </tr>\n",
       "    <tr>\n",
       "      <th>body_mass_g</th>\n",
       "      <td>0.595110</td>\n",
       "      <td>-0.471916</td>\n",
       "      <td>0.871202</td>\n",
       "      <td>1.000000</td>\n",
       "    </tr>\n",
       "  </tbody>\n",
       "</table>\n",
       "</div>"
      ],
      "text/plain": [
       "                   bill_length_mm  bill_depth_mm  flipper_length_mm  \\\n",
       "bill_length_mm           1.000000      -0.235053           0.656181   \n",
       "bill_depth_mm           -0.235053       1.000000          -0.583851   \n",
       "flipper_length_mm        0.656181      -0.583851           1.000000   \n",
       "body_mass_g              0.595110      -0.471916           0.871202   \n",
       "\n",
       "                   body_mass_g  \n",
       "bill_length_mm        0.595110  \n",
       "bill_depth_mm        -0.471916  \n",
       "flipper_length_mm     0.871202  \n",
       "body_mass_g           1.000000  "
      ]
     },
     "execution_count": 11,
     "metadata": {},
     "output_type": "execute_result"
    }
   ],
   "source": [
    "df2[['bill_length_mm', 'bill_depth_mm', 'flipper_length_mm','body_mass_g']].corr()"
   ]
  },
  {
   "cell_type": "markdown",
   "id": "e5a56b30-d90b-4f7d-ace6-34f048699beb",
   "metadata": {},
   "source": [
    "#### Model Definition\n",
    "\n",
    "Starting from the predictors matrix $X$ and the target vector $y$, we split the dataset in **70% for training** and 30% for testing, then we proceed to **define the model** and **fit it to the data**, thus obtaining the **estimates of the regression coefficients**. "
   ]
  },
  {
   "cell_type": "code",
   "execution_count": 12,
   "id": "7c8b3596-86c4-4a0d-ba2f-bf23e37874ff",
   "metadata": {},
   "outputs": [],
   "source": [
    "y = df2['target']\n",
    "X = df2[['body_mass_g','bill_length_mm','bill_depth_mm','species_Adelie','species_Chinstrap']]"
   ]
  },
  {
   "cell_type": "code",
   "execution_count": 13,
   "id": "40c10a16-8564-4e55-a14c-e950a9a77414",
   "metadata": {},
   "outputs": [],
   "source": [
    "X_train, X_test, y_train, y_test = train_test_split(X, y, test_size=0.3, random_state=42)"
   ]
  },
  {
   "cell_type": "code",
   "execution_count": 14,
   "id": "3b2f36fb-68d2-4f95-8c13-5905a1f35e9e",
   "metadata": {},
   "outputs": [
    {
     "data": {
      "text/plain": [
       "LogisticRegression(max_iter=1000)"
      ]
     },
     "execution_count": 14,
     "metadata": {},
     "output_type": "execute_result"
    }
   ],
   "source": [
    "log_reg = LogisticRegression(max_iter=1000)\n",
    "log_reg.fit(X_train, y_train)"
   ]
  },
  {
   "cell_type": "code",
   "execution_count": 15,
   "id": "17b8abfe-76e5-4a03-9830-948e112f60ad",
   "metadata": {},
   "outputs": [
    {
     "name": "stdout",
     "output_type": "stream",
     "text": [
      "Intercept: [-63.9544871]\n",
      "Coefficients: [ 0.00488068  0.25555693  1.83808017  1.87281418 -0.82887732]\n"
     ]
    }
   ],
   "source": [
    "print('Intercept:', log_reg.intercept_)\n",
    "print('Coefficients:', log_reg.coef_[0])"
   ]
  },
  {
   "cell_type": "markdown",
   "id": "91d4e9ac-b1d3-44bd-98c9-9a1106f4dc6b",
   "metadata": {},
   "source": [
    "#### Model Evaluation\n",
    "\n",
    "We use the model we just trained to calculate the $\\hat{y}$ prediction estimates. We will then use these predictions to assess the performance of the model using a **[confusion matrix](https://en.wikipedia.org/wiki/Confusion_matrix)**, that is a specific table that provides a **visualization of the performance** of a classification model. "
   ]
  },
  {
   "cell_type": "code",
   "execution_count": 16,
   "id": "6baa32c5-ca62-4f84-825a-bdc7c2e895e5",
   "metadata": {},
   "outputs": [],
   "source": [
    "y_pred = log_reg.predict(X_test)"
   ]
  },
  {
   "cell_type": "code",
   "execution_count": 17,
   "id": "af7c2176-f0e1-40d4-addd-986150e253d7",
   "metadata": {},
   "outputs": [
    {
     "data": {
      "text/plain": [
       "0.912621359223301"
      ]
     },
     "execution_count": 17,
     "metadata": {},
     "output_type": "execute_result"
    }
   ],
   "source": [
    "# accuracy of predictions:\n",
    "np.mean(y_pred==y_test)"
   ]
  },
  {
   "cell_type": "code",
   "execution_count": 19,
   "id": "40fb223d-b2b0-44ca-8898-37ee6b893e87",
   "metadata": {},
   "outputs": [
    {
     "data": {
      "text/plain": [
       "array([[48,  3],\n",
       "       [ 6, 46]])"
      ]
     },
     "execution_count": 19,
     "metadata": {},
     "output_type": "execute_result"
    }
   ],
   "source": [
    "cm = metrics.confusion_matrix(y_test, y_pred)\n",
    "cm"
   ]
  },
  {
   "cell_type": "code",
   "execution_count": 20,
   "id": "33be0331-3a96-4f12-89f2-51291e2af68f",
   "metadata": {},
   "outputs": [
    {
     "data": {
      "image/png": "[encoded data removed]",
      "text/plain": [
       "<Figure size 648x360 with 2 Axes>"
      ]
     },
     "metadata": {},
     "output_type": "display_data"
    }
   ],
   "source": [
    "# visualization of the Confusion Matrix\n",
    "sns.set(font_scale=2)\n",
    "\n",
    "ax = sns.heatmap(cm, annot=True, cmap='Blues')\n",
    "\n",
    "ax.set_title('Confusion Matrix with labels\\n');\n",
    "ax.set_xlabel('\\nPredicted Values')\n",
    "ax.set_ylabel('Actual Values \\n');\n",
    "\n",
    "ax.yaxis.set_ticklabels(['0','1'])\n",
    "ax.xaxis.set_ticklabels(['0','1'])\n",
    "\n",
    "plt.show()"
   ]
  },
  {
   "cell_type": "markdown",
   "id": "84baa52b-67f4-4397-ab73-7b5f77f9edb0",
   "metadata": {},
   "source": [
    "A confusion matrix summarises the prediction results of a classification model. The number of correct and incorrect predictions are summarized by counting their values and broking them down by the actual and predicted classes. \n",
    "\n",
    "> Although it may confuse its reader, its name comes from the fact that it shows the ways in which your classification model is confused when it makes predictions. \n",
    "\n",
    "Not only it tells you the errors your classifier is making, but it also breaks down the types of errors that are being made.\n",
    "\n",
    "<img src=\"img/confusion-matrix.png\" width=\"700\">\n",
    "\n",
    "Thanks to the confusion matrix, we can calculate more **advanced classification metrics** such as: \n",
    "- **accuracy**: percent of correct prediction overall.\n",
    "- **precision**: correct positive predictions relative to total positive predictions; this is a good measure to evaluate in cases where the **costs of False Positive is high** (like email spam detection).\n",
    "- **recall**: correct positive predictions relative to total actual positives; this is a good measure to evaluate in cases where the **costs of False Negative is high** (like fraud detection).\n",
    "- there are more, check them out [here](https://www.ml-concepts.com/2022/01/15/accuracy-specificity-precision-recall-and-f1-score-for-model-selection/)\n",
    "\n",
    "<img src=\"img/cm-metrics.png\" width=\"700\">\n",
    "\n",
    "Be sure to check out **[this page](https://mlu-explain.github.io/precision-recall/)** from Jared Wilber's great website for a visual interpretation of Accuracy, Precision and Recall (and the **F1 score** as well) as well as **[this page](https://mlu-explain.github.io/roc-auc/)** to find out what is a **Receiver Operating Characteristic** (ROC) curve and why we care about the **area underneath it** (AUC)."
   ]
  },
  {
   "cell_type": "code",
   "execution_count": 21,
   "id": "e121bf21-9d57-4e21-b7b5-ddbe919c8515",
   "metadata": {},
   "outputs": [
    {
     "data": {
      "text/plain": [
       "0.912621359223301"
      ]
     },
     "execution_count": 21,
     "metadata": {},
     "output_type": "execute_result"
    }
   ],
   "source": [
    "metrics.accuracy_score(y_test, y_pred)"
   ]
  },
  {
   "cell_type": "code",
   "execution_count": 22,
   "id": "b4284a51-99d5-4518-a54f-8739ec64e808",
   "metadata": {},
   "outputs": [
    {
     "data": {
      "text/plain": [
       "0.9387755102040817"
      ]
     },
     "execution_count": 22,
     "metadata": {},
     "output_type": "execute_result"
    }
   ],
   "source": [
    "metrics.precision_score(y_test, y_pred)"
   ]
  },
  {
   "cell_type": "code",
   "execution_count": 23,
   "id": "c603d680-24df-4b73-b1b6-80c6a80c98b8",
   "metadata": {},
   "outputs": [
    {
     "data": {
      "text/plain": [
       "0.8846153846153846"
      ]
     },
     "execution_count": 23,
     "metadata": {},
     "output_type": "execute_result"
    }
   ],
   "source": [
    "metrics.recall_score(y_test, y_pred)"
   ]
  },
  {
   "cell_type": "code",
   "execution_count": 24,
   "id": "1759990a-95db-4ca1-8167-c084f86f3fed",
   "metadata": {},
   "outputs": [
    {
     "data": {
      "image/png": "[encoded data removed]",
      "text/plain": [
       "<Figure size 648x360 with 1 Axes>"
      ]
     },
     "metadata": {},
     "output_type": "display_data"
    }
   ],
   "source": [
    "# calculate the fpr and tpr for all thresholds of the classification\n",
    "probs = log_reg.predict_proba(X_test)\n",
    "preds = probs[:,1]\n",
    "fpr, tpr, threshold = metrics.roc_curve(y_test, preds)\n",
    "roc_auc = metrics.auc(fpr, tpr)\n",
    "\n",
    "# plot the ROC curve and print the AUC\n",
    "plt.title('Receiver Operating Characteristic')\n",
    "plt.plot(fpr, tpr, 'b', label = 'AUC = %0.2f' % roc_auc)\n",
    "plt.legend(loc = 'lower right')\n",
    "plt.plot([0, 1], [0, 1],'r--')\n",
    "plt.xlim([0, 1])\n",
    "plt.ylim([0, 1])\n",
    "plt.ylabel('True Positive Rate')\n",
    "plt.xlabel('False Positive Rate')\n",
    "plt.show()"
   ]
  },
  {
   "cell_type": "markdown",
   "id": "2d238971-de77-4183-b8a8-7236cc8ba707",
   "metadata": {
    "tags": []
   },
   "source": [
    "### Further Reading\n",
    "\n",
    "- The Elements of Statistical Learning - by Friedman, Tibshirani, Hastie\n",
    "    - [Free PDF](https://hastie.su.domains/Papers/ESLII.pdf)\n",
    "    - [Hardcover](https://www.amazon.com/Elements-Statistical-Learning-Prediction-Statistics/dp/0387848576)"
   ]
  },
  {
   "cell_type": "code",
   "execution_count": null,
   "id": "68f48f21-abf5-4b41-93b4-e462d03b51de",
   "metadata": {},
   "outputs": [],
   "source": []
  }
 ],
 "metadata": {
  "kernelspec": {
   "display_name": "Python 3 (ipykernel)",
   "language": "python",
   "name": "python3"
  },
  "language_info": {
   "codemirror_mode": {
    "name": "ipython",
    "version": 3
   },
   "file_extension": ".py",
   "mimetype": "text/x-python",
   "name": "python",
   "nbconvert_exporter": "python",
   "pygments_lexer": "ipython3",
   "version": "3.9.12"
  }
 },
 "nbformat": 4,
 "nbformat_minor": 5
}
